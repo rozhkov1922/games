{
 "cells": [
  {
   "cell_type": "markdown",
   "metadata": {},
   "source": [
    "Оглавление\n",
    "Шаг 1.\n",
    "Шаг 2.\n",
    "Шаг 3. \n",
    "Шаг 4.\n",
    "Шаг 5. \n",
    "Общий вывод"
   ]
  },
  {
   "cell_type": "markdown",
   "metadata": {},
   "source": [
    "Шаг 1."
   ]
  },
  {
   "cell_type": "code",
   "execution_count": 1,
   "metadata": {},
   "outputs": [],
   "source": [
    "import pandas as pd\n",
    "import seaborn as sns\n",
    "import matplotlib.pyplot as plt\n",
    "from scipy import stats as st"
   ]
  },
  {
   "cell_type": "code",
   "execution_count": 2,
   "metadata": {},
   "outputs": [],
   "source": [
    "data = pd.read_csv('/datasets/games.csv')\n"
   ]
  },
  {
   "cell_type": "code",
   "execution_count": 3,
   "metadata": {},
   "outputs": [
    {
     "name": "stdout",
     "output_type": "stream",
     "text": [
      "<class 'pandas.core.frame.DataFrame'>\n",
      "RangeIndex: 16715 entries, 0 to 16714\n",
      "Data columns (total 11 columns):\n",
      " #   Column           Non-Null Count  Dtype  \n",
      "---  ------           --------------  -----  \n",
      " 0   Name             16713 non-null  object \n",
      " 1   Platform         16715 non-null  object \n",
      " 2   Year_of_Release  16446 non-null  float64\n",
      " 3   Genre            16713 non-null  object \n",
      " 4   NA_sales         16715 non-null  float64\n",
      " 5   EU_sales         16715 non-null  float64\n",
      " 6   JP_sales         16715 non-null  float64\n",
      " 7   Other_sales      16715 non-null  float64\n",
      " 8   Critic_Score     8137 non-null   float64\n",
      " 9   User_Score       10014 non-null  object \n",
      " 10  Rating           9949 non-null   object \n",
      "dtypes: float64(6), object(5)\n",
      "memory usage: 1.4+ MB\n"
     ]
    }
   ],
   "source": [
    "data.info()"
   ]
  },
  {
   "cell_type": "markdown",
   "metadata": {},
   "source": [
    "Судя по данным, мы обладаем данными по Европе, Северной Америке и Японии. Странно, что колонка 'Critic_Score' сохранена в данных типа float. Их придется переделать. Кроме того, все колонки написаны с загланной буквы. Их можно привести к нижнему регистру"
   ]
  },
  {
   "cell_type": "markdown",
   "metadata": {},
   "source": [
    "Шаг 2."
   ]
  },
  {
   "cell_type": "code",
   "execution_count": 4,
   "metadata": {},
   "outputs": [],
   "source": [
    "data.set_axis(data.columns.str.lower(), axis='columns', inplace=True)"
   ]
  },
  {
   "cell_type": "code",
   "execution_count": 5,
   "metadata": {},
   "outputs": [],
   "source": [
    "data['user_score'] = pd.to_numeric(data['user_score'], errors='coerce')"
   ]
  },
  {
   "cell_type": "markdown",
   "metadata": {},
   "source": [
    "Изначально данные в колонке 'User_Score' были в формате object. Поскольку данные состояли преимущественно из цифр, я в целях дальнейшей корректной работы над проектом решил заменить их на объекты типа 'float64'. Приминение метода to_numeric c аргументомerrors='coerce' позволило заменить строку 'tbd' на 'Nan'.  "
   ]
  },
  {
   "cell_type": "code",
   "execution_count": 6,
   "metadata": {},
   "outputs": [
    {
     "data": {
      "text/plain": [
       "array([8. , nan, 8.3, 8.5, 6.6, 8.4, 8.6, 7.7, 6.3, 7.4, 8.2, 9. , 7.9,\n",
       "       8.1, 8.7, 7.1, 3.4, 5.3, 4.8, 3.2, 8.9, 6.4, 7.8, 7.5, 2.6, 7.2,\n",
       "       9.2, 7. , 7.3, 4.3, 7.6, 5.7, 5. , 9.1, 6.5, 8.8, 6.9, 9.4, 6.8,\n",
       "       6.1, 6.7, 5.4, 4. , 4.9, 4.5, 9.3, 6.2, 4.2, 6. , 3.7, 4.1, 5.8,\n",
       "       5.6, 5.5, 4.4, 4.6, 5.9, 3.9, 3.1, 2.9, 5.2, 3.3, 4.7, 5.1, 3.5,\n",
       "       2.5, 1.9, 3. , 2.7, 2.2, 2. , 9.5, 2.1, 3.6, 2.8, 1.8, 3.8, 0. ,\n",
       "       1.6, 9.6, 2.4, 1.7, 1.1, 0.3, 1.5, 0.7, 1.2, 2.3, 0.5, 1.3, 0.2,\n",
       "       0.6, 1.4, 0.9, 1. , 9.7])"
      ]
     },
     "execution_count": 6,
     "metadata": {},
     "output_type": "execute_result"
    }
   ],
   "source": [
    "data['user_score'].unique()"
   ]
  },
  {
   "cell_type": "markdown",
   "metadata": {},
   "source": [
    "Строка 'tbd' исчезла из колонки"
   ]
  },
  {
   "cell_type": "code",
   "execution_count": 7,
   "metadata": {},
   "outputs": [
    {
     "data": {
      "text/plain": [
       "0        2006.0\n",
       "1        1985.0\n",
       "2        2008.0\n",
       "3        2009.0\n",
       "4        1996.0\n",
       "          ...  \n",
       "16710    2016.0\n",
       "16711    2006.0\n",
       "16712    2016.0\n",
       "16713    2003.0\n",
       "16714    2016.0\n",
       "Name: year_of_release, Length: 16715, dtype: float64"
      ]
     },
     "execution_count": 7,
     "metadata": {},
     "output_type": "execute_result"
    }
   ],
   "source": [
    "data['year_of_release'].fillna(0)"
   ]
  },
  {
   "cell_type": "code",
   "execution_count": 8,
   "metadata": {},
   "outputs": [],
   "source": [
    "data['rating'] = data['rating'].fillna('undefined')"
   ]
  },
  {
   "cell_type": "markdown",
   "metadata": {},
   "source": [
    "Я решил заменить пропуски на на нули, поскольку в этом столбце пропусков было не так много, а значит их отсутствие не повлияет на дальнейший анализ. В колонке 'user_score' и 'critic_score' было достаточно много пропусков, поэтому их удаление привело бы к искажению данных. В столбце 'raiting' я заменил пропуски на undefined. Возможно, пропуски появились, поскольку игроки и критики просто не успели поставить оценки.  "
   ]
  },
  {
   "cell_type": "code",
   "execution_count": 9,
   "metadata": {},
   "outputs": [
    {
     "data": {
      "text/plain": [
       "PS2     2161\n",
       "DS      2151\n",
       "PS3     1331\n",
       "Wii     1320\n",
       "X360    1262\n",
       "PSP     1209\n",
       "PS      1197\n",
       "PC       974\n",
       "XB       824\n",
       "GBA      822\n",
       "GC       556\n",
       "3DS      520\n",
       "PSV      430\n",
       "PS4      392\n",
       "N64      319\n",
       "XOne     247\n",
       "SNES     239\n",
       "SAT      173\n",
       "WiiU     147\n",
       "2600     133\n",
       "GB        98\n",
       "NES       98\n",
       "DC        52\n",
       "GEN       29\n",
       "NG        12\n",
       "WS         6\n",
       "SCD        6\n",
       "3DO        3\n",
       "TG16       2\n",
       "GG         1\n",
       "PCFX       1\n",
       "Name: platform, dtype: int64"
      ]
     },
     "execution_count": 9,
     "metadata": {},
     "output_type": "execute_result"
    }
   ],
   "source": [
    "data['platform'].value_counts()"
   ]
  },
  {
   "cell_type": "code",
   "execution_count": 10,
   "metadata": {},
   "outputs": [
    {
     "data": {
      "text/plain": [
       "Action          3369\n",
       "Sports          2348\n",
       "Misc            1750\n",
       "Role-Playing    1498\n",
       "Shooter         1323\n",
       "Adventure       1303\n",
       "Racing          1249\n",
       "Platform         888\n",
       "Simulation       873\n",
       "Fighting         849\n",
       "Strategy         683\n",
       "Puzzle           580\n",
       "Name: genre, dtype: int64"
      ]
     },
     "execution_count": 10,
     "metadata": {},
     "output_type": "execute_result"
    }
   ],
   "source": [
    "data['genre'].value_counts()"
   ]
  },
  {
   "cell_type": "markdown",
   "metadata": {},
   "source": [
    "Наибольшая вероятность найти дубликаты была в колонках 'platform' и 'genre', однако методом .value_counts() их обнаружить не удалось. "
   ]
  },
  {
   "cell_type": "markdown",
   "metadata": {},
   "source": [
    "В данной части задания я удалил пропуски так, где это возможно было сделать. Заменил 'Tld' на 'Nan'. Поскольку дубликатов не было, я оставил все данные в первоначальном состоянии"
   ]
  },
  {
   "cell_type": "code",
   "execution_count": 11,
   "metadata": {},
   "outputs": [],
   "source": [
    "data['total_sales'] = data[['na_sales','eu_sales','jp_sales','other_sales']].sum(axis=1)"
   ]
  },
  {
   "cell_type": "markdown",
   "metadata": {},
   "source": [
    "Шаг 3."
   ]
  },
  {
   "cell_type": "code",
   "execution_count": 12,
   "metadata": {},
   "outputs": [
    {
     "data": {
      "image/png": "[encoded data removed]",
      "text/plain": [
       "<Figure size 432x288 with 1 Axes>"
      ]
     },
     "metadata": {
      "needs_background": "light"
     },
     "output_type": "display_data"
    }
   ],
   "source": [
    "data['year_of_release'].hist();"
   ]
  },
  {
   "cell_type": "markdown",
   "metadata": {},
   "source": [
    "Больше всего игр было выпущено в промежутке между 2005 и 2010 годами. "
   ]
  },
  {
   "cell_type": "code",
   "execution_count": 13,
   "metadata": {},
   "outputs": [],
   "source": [
    "data = data.query('year_of_release > 1992')"
   ]
  },
  {
   "cell_type": "code",
   "execution_count": 14,
   "metadata": {},
   "outputs": [
    {
     "data": {
      "image/png": "[encoded data removed]",
      "text/plain": [
       "<Figure size 432x288 with 1 Axes>"
      ]
     },
     "metadata": {
      "needs_background": "light"
     },
     "output_type": "display_data"
    }
   ],
   "source": [
    "platform_total_sales = data.pivot_table(index=['platform','year_of_release'], values='total_sales', aggfunc = 'sum').sort_values(by='total_sales', ascending=False) \n",
    "platform_total_sales_top = platform_total_sales.query('platform == \"XOne\" or platform == \"PS3\" or platform == \"PS4\" or platform == \"X360\" or platform == \"PS\" or platform == \"PS2\" or platform == \"Wii\"')\n",
    "sns.lineplot(data=platform_total_sales_top, x='year_of_release', y='total_sales', hue='platform', style='platform')\n",
    "sns.set(rc={'figure.figsize':(12,6)})\n"
   ]
  },
  {
   "cell_type": "markdown",
   "metadata": {},
   "source": [
    "Привет! Спросил у препода, вроде тут распределение по суммарным продажам и показано"
   ]
  },
  {
   "cell_type": "markdown",
   "metadata": {},
   "source": [
    "Период использования платформ составляет примерно 8-10 лет. При этом пик продаж на этих платформах приходился на з-ий и 4-ый годы с моменты их выхода. "
   ]
  },
  {
   "cell_type": "code",
   "execution_count": 15,
   "metadata": {
    "scrolled": true
   },
   "outputs": [
    {
     "data": {
      "image/png": "[encoded data removed]",
      "text/plain": [
       "<Figure size 864x432 with 1 Axes>"
      ]
     },
     "metadata": {},
     "output_type": "display_data"
    }
   ],
   "source": [
    "platform_total_sales_actual = platform_total_sales_top.query('year_of_release > 2010')\n",
    "sns.lineplot(data=platform_total_sales_actual, x='year_of_release', y='total_sales', hue='platform', style='platform');"
   ]
  },
  {
   "cell_type": "markdown",
   "metadata": {},
   "source": [
    "Я решил выбрать актуальные период с 2010 г., поскольку на него приходится момент спада продаж на старых платформах (PS3, X360,Wii) и появление новых платформ с 2013 г. (PS4, XOne). Судя по данным, к 2018-2020 г. продажи на этих платформах достигнут своего минимума. PS4 по-прежнему остается наиболее прибыльной платформой, хотя продажи на нем постепенно снижаются. Второй по прибыльности, но заметно менее популярной является платформа XOne. "
   ]
  },
  {
   "cell_type": "code",
   "execution_count": 16,
   "metadata": {},
   "outputs": [
    {
     "data": {
      "text/plain": [
       "(0.0, 2.0)"
      ]
     },
     "execution_count": 16,
     "metadata": {},
     "output_type": "execute_result"
    },
    {
     "data": {
      "image/png": "[encoded data removed]",
      "text/plain": [
       "<Figure size 864x432 with 1 Axes>"
      ]
     },
     "metadata": {},
     "output_type": "display_data"
    }
   ],
   "source": [
    "data_filtred = data.query('year_of_release > 2010')\n",
    "sns.boxplot(data = data_filtred, y = 'total_sales', x='platform'); \n",
    "plt.ylim(0, 2)\n"
   ]
  },
  {
   "cell_type": "markdown",
   "metadata": {},
   "source": [
    "В среднем с 2010 г. больше всего было продаж на платформах PS3, X360, PS4, XOne. "
   ]
  },
  {
   "cell_type": "code",
   "execution_count": 17,
   "metadata": {},
   "outputs": [
    {
     "name": "stderr",
     "output_type": "stream",
     "text": [
      "*c* argument looks like a single numeric RGB or RGBA sequence, which should be avoided as value-mapping will have precedence in case its length matches with *x* & *y*.  Please use the *color* keyword-argument or provide a 2-D array with a single row if you intend to specify the same RGB or RGBA value for all points.\n"
     ]
    },
    {
     "data": {
      "text/plain": [
       "0.4327589578997135"
      ]
     },
     "execution_count": 17,
     "metadata": {},
     "output_type": "execute_result"
    },
    {
     "data": {
      "image/png": "[encoded data removed]",
      "text/plain": [
       "<Figure size 864x432 with 1 Axes>"
      ]
     },
     "metadata": {},
     "output_type": "display_data"
    }
   ],
   "source": [
    "PS3 = data.query('platform == \"PS3\"')\n",
    "PS3.plot(x='critic_score', y='total_sales', kind='scatter');\n",
    "PS3['total_sales'].corr(PS3['critic_score'])\n"
   ]
  },
  {
   "cell_type": "markdown",
   "metadata": {},
   "source": [
    "Благодаря графику можно увидеть, что высокая оценка критиков относительно слабо влияет на продажи игр с платформы PS3. Об этом же говорит и корреляция "
   ]
  },
  {
   "cell_type": "code",
   "execution_count": 18,
   "metadata": {},
   "outputs": [
    {
     "name": "stderr",
     "output_type": "stream",
     "text": [
      "*c* argument looks like a single numeric RGB or RGBA sequence, which should be avoided as value-mapping will have precedence in case its length matches with *x* & *y*.  Please use the *color* keyword-argument or provide a 2-D array with a single row if you intend to specify the same RGB or RGBA value for all points.\n"
     ]
    },
    {
     "data": {
      "text/plain": [
       "0.12841562938563006"
      ]
     },
     "execution_count": 18,
     "metadata": {},
     "output_type": "execute_result"
    },
    {
     "data": {
      "image/png": "[encoded data removed]",
      "text/plain": [
       "<Figure size 864x432 with 1 Axes>"
      ]
     },
     "metadata": {},
     "output_type": "display_data"
    }
   ],
   "source": [
    "PS3 = data.query('platform == \"PS3\"')\n",
    "PS3.plot(x='user_score', y='total_sales', kind='scatter');\n",
    "PS3['total_sales'].corr(PS3['user_score'])\n"
   ]
  },
  {
   "cell_type": "markdown",
   "metadata": {},
   "source": [
    "Как видно на графике, оценка пользователей слабо влияла на продажи игр с платформы PS3. Об этом же говорит корреляция  "
   ]
  },
  {
   "cell_type": "code",
   "execution_count": 19,
   "metadata": {},
   "outputs": [
    {
     "name": "stderr",
     "output_type": "stream",
     "text": [
      "*c* argument looks like a single numeric RGB or RGBA sequence, which should be avoided as value-mapping will have precedence in case its length matches with *x* & *y*.  Please use the *color* keyword-argument or provide a 2-D array with a single row if you intend to specify the same RGB or RGBA value for all points.\n"
     ]
    },
    {
     "data": {
      "text/plain": [
       "0.08873442613631503"
      ]
     },
     "execution_count": 19,
     "metadata": {},
     "output_type": "execute_result"
    },
    {
     "data": {
      "image/png": "[encoded data removed]",
      "text/plain": [
       "<Figure size 864x432 with 1 Axes>"
      ]
     },
     "metadata": {},
     "output_type": "display_data"
    }
   ],
   "source": [
    "another_platforms = data.query('platform != \"PS3\"')\n",
    "another_platforms.plot(x='user_score', y='total_sales', kind='scatter');\n",
    "another_platforms['total_sales'].corr(another_platforms['user_score'])"
   ]
  },
  {
   "cell_type": "markdown",
   "metadata": {},
   "source": [
    "В целом оценки пользователей слабо влияют на продажи игр на остальных платформах. Это видно и на графике, и на корреляции "
   ]
  },
  {
   "cell_type": "code",
   "execution_count": 20,
   "metadata": {},
   "outputs": [
    {
     "name": "stderr",
     "output_type": "stream",
     "text": [
      "*c* argument looks like a single numeric RGB or RGBA sequence, which should be avoided as value-mapping will have precedence in case its length matches with *x* & *y*.  Please use the *color* keyword-argument or provide a 2-D array with a single row if you intend to specify the same RGB or RGBA value for all points.\n"
     ]
    },
    {
     "data": {
      "text/plain": [
       "0.2248106510799799"
      ]
     },
     "execution_count": 20,
     "metadata": {},
     "output_type": "execute_result"
    },
    {
     "data": {
      "image/png": "[encoded data removed]",
      "text/plain": [
       "<Figure size 864x432 with 1 Axes>"
      ]
     },
     "metadata": {},
     "output_type": "display_data"
    }
   ],
   "source": [
    "another_platforms.plot(x='critic_score', y='total_sales', kind='scatter');\n",
    "another_platforms['total_sales'].corr(another_platforms['critic_score'])"
   ]
  },
  {
   "cell_type": "markdown",
   "metadata": {},
   "source": [
    "Как видно из графика, оценки критиков слабо влияют на продажи игр в целом."
   ]
  },
  {
   "cell_type": "code",
   "execution_count": 21,
   "metadata": {},
   "outputs": [
    {
     "data": {
      "image/png": "[encoded data removed]",
      "text/plain": [
       "<Figure size 864x432 with 1 Axes>"
      ]
     },
     "metadata": {},
     "output_type": "display_data"
    }
   ],
   "source": [
    "profit_genre = data.pivot_table(index=['genre'], values=['total_sales']).sort_values(by='total_sales', ascending=False) \n",
    "profit_genre.reset_index()\n",
    "sns.barplot (x = profit_genre.index, y = profit_genre ['total_sales']);"
   ]
  },
  {
   "cell_type": "markdown",
   "metadata": {},
   "source": [
    "Как видно из графика, наиболее прибыльными жанрами игр являются платформер, шутер. Жанр стратегии и приключений являются наименее прибыльными"
   ]
  },
  {
   "cell_type": "markdown",
   "metadata": {},
   "source": [
    "Шаг 4. Портрет пользователя каждого региона"
   ]
  },
  {
   "cell_type": "code",
   "execution_count": 22,
   "metadata": {},
   "outputs": [
    {
     "data": {
      "image/png": "[encoded data removed]",
      "text/plain": [
       "<Figure size 288x288 with 1 Axes>"
      ]
     },
     "metadata": {},
     "output_type": "display_data"
    }
   ],
   "source": [
    "na_sales_data = data.pivot_table(index=['platform'], values=['na_sales'], aggfunc= 'sum').sort_values(by='na_sales', ascending=False).head()\n",
    "top_na_sales_data = data.pivot_table(index=['platform'], values=['na_sales'], aggfunc= 'sum').sort_values(by='na_sales', ascending=False)\n",
    "na_sales_data.loc['Other', 'na_sales'] = top_na_sales_data.iloc[5:].sum()[0]\n",
    "na_sales_data.plot(kind = 'pie', y = 'na_sales', legend = False, figsize = (4,4), autopct = '%.0f%%' );"
   ]
  },
  {
   "cell_type": "markdown",
   "metadata": {},
   "source": [
    "В Северной Америке самой популярной платформой являетя X360, на втором месте PS2. На популярные платформы приходится порядка 60% всего рынка. "
   ]
  },
  {
   "cell_type": "code",
   "execution_count": 23,
   "metadata": {},
   "outputs": [
    {
     "data": {
      "image/png": "[encoded data removed]",
      "text/plain": [
       "<Figure size 288x288 with 1 Axes>"
      ]
     },
     "metadata": {},
     "output_type": "display_data"
    }
   ],
   "source": [
    "jp_sales_data = data.pivot_table(index=['platform'], values=['jp_sales'], aggfunc= 'sum').sort_values(by='jp_sales', ascending=False).head()\n",
    "top_jp_sales_data = data.pivot_table(index=['platform'], values=['jp_sales'], aggfunc= 'sum').sort_values(by='jp_sales', ascending=False)\n",
    "jp_sales_data.loc['Other', 'jp_sales'] = top_na_sales_data.iloc[5:].sum()[0]\n",
    "jp_sales_data.plot(kind = 'pie', y = 'jp_sales', legend = False, figsize = (4,4), autopct = '%.0f%%' );"
   ]
  },
  {
   "cell_type": "markdown",
   "metadata": {},
   "source": [
    "В Японии наиболее популярной платформой у пользователей является DS. На втором месте находятся PS2 и PS."
   ]
  },
  {
   "cell_type": "code",
   "execution_count": 24,
   "metadata": {},
   "outputs": [
    {
     "data": {
      "image/png": "[encoded data removed]",
      "text/plain": [
       "<Figure size 288x288 with 1 Axes>"
      ]
     },
     "metadata": {},
     "output_type": "display_data"
    }
   ],
   "source": [
    "eu_sales_data = data.pivot_table(index=['platform'], values=['eu_sales'], aggfunc= 'sum').sort_values(by='eu_sales', ascending=False).head()\n",
    "top_eu_sales_data = data.pivot_table(index=['platform'], values=['eu_sales'], aggfunc= 'sum').sort_values(by='eu_sales', ascending=False)\n",
    "eu_sales_data.loc['Other', 'eu_sales'] = top_na_sales_data.iloc[5:].sum()[0]\n",
    "eu_sales_data.plot(kind = 'pie', y = 'eu_sales', legend = False, figsize = (4,4), autopct = '%.0f%%' );"
   ]
  },
  {
   "cell_type": "markdown",
   "metadata": {},
   "source": [
    "В Европе больше всего люди играют на PS3 и PS2. В Старом Свете меньше увлекаются Wii и 360, чем в Северной Америке"
   ]
  },
  {
   "cell_type": "code",
   "execution_count": 25,
   "metadata": {},
   "outputs": [
    {
     "data": {
      "image/png": "[encoded data removed]",
      "text/plain": [
       "<Figure size 864x432 with 1 Axes>"
      ]
     },
     "metadata": {},
     "output_type": "display_data"
    }
   ],
   "source": [
    "eu_genre = data.pivot_table(index=['genre'], values=['eu_sales'], aggfunc= 'sum').sort_values(by='eu_sales', ascending=False).head()\n",
    "eu_genre.reset_index()\n",
    "sns.barplot (x = eu_genre.index, y = eu_genre ['eu_sales']);\n"
   ]
  },
  {
   "cell_type": "markdown",
   "metadata": {},
   "source": [
    "В Европе людям больше всего нравится играть в игры жанра Action. Спортивные симпуляторы занимают второе место"
   ]
  },
  {
   "cell_type": "code",
   "execution_count": 26,
   "metadata": {},
   "outputs": [
    {
     "data": {
      "image/png": "[encoded data removed]",
      "text/plain": [
       "<Figure size 864x432 with 1 Axes>"
      ]
     },
     "metadata": {},
     "output_type": "display_data"
    }
   ],
   "source": [
    "jp_genre = data.pivot_table(index=['genre'], values=['jp_sales'], aggfunc= 'sum').sort_values(by='jp_sales', ascending=False).head()\n",
    "jp_genre.reset_index()\n",
    "sns.barplot (x = jp_genre.index, y = jp_genre ['jp_sales']);"
   ]
  },
  {
   "cell_type": "markdown",
   "metadata": {},
   "source": [
    "В Японии огромной популярностью пользуются ролевые игры. Их покупаются почти в два раза больше, чем игры жанра Action и спортивные симуляторы"
   ]
  },
  {
   "cell_type": "code",
   "execution_count": 27,
   "metadata": {},
   "outputs": [
    {
     "data": {
      "image/png": "[encoded data removed]",
      "text/plain": [
       "<Figure size 864x432 with 1 Axes>"
      ]
     },
     "metadata": {},
     "output_type": "display_data"
    }
   ],
   "source": [
    "na_genre = data.pivot_table(index=['genre'], values=['na_sales'], aggfunc= 'sum').sort_values(by='na_sales', ascending=False).head()\n",
    "na_genre.reset_index()\n",
    "t = sns.barplot (x = na_genre.index, y = na_genre ['na_sales']);"
   ]
  },
  {
   "cell_type": "markdown",
   "metadata": {},
   "source": [
    "В Северной Америке наиболее популярными играми как и в Европе являются игры в жанре Action и спортивные симуляторы."
   ]
  },
  {
   "cell_type": "code",
   "execution_count": 28,
   "metadata": {},
   "outputs": [
    {
     "data": {
      "image/png": "[encoded data removed]",
      "text/plain": [
       "<Figure size 864x432 with 1 Axes>"
      ]
     },
     "metadata": {},
     "output_type": "display_data"
    }
   ],
   "source": [
    "rating_region_na = data.pivot_table(index=['rating'], values=['na_sales'], aggfunc= 'sum').sort_values(by='na_sales', ascending=False)\n",
    "rating_region_na.reset_index()\n",
    "sns.barplot (x = rating_region_na.index, y = rating_region_na ['na_sales']);"
   ]
  },
  {
   "cell_type": "markdown",
   "metadata": {},
   "source": [
    "Как видно из графика, в Северной Америке игры с рейтингом E пользуются огромной популярностью. Игры с рейтингом T, M также достаточно популярны. Игры с рейтингом E10+ пользуются популярностью почти в 4 раза меньше, чем игры с рейтингом E. Остальные рейтинги, судя по графику, вообще никак не влияют на продажи "
   ]
  },
  {
   "cell_type": "markdown",
   "metadata": {},
   "source": [
    "Шаг 5. "
   ]
  },
  {
   "cell_type": "markdown",
   "metadata": {},
   "source": [
    "В качестве нулевой гипотезы я выбрал утверждение, что среднее пользовательских рейтингов на платформах XOne и PC одинаковое. \n",
    "Нулевая гипотеза не была опровергнута"
   ]
  },
  {
   "cell_type": "code",
   "execution_count": 29,
   "metadata": {
    "scrolled": true
   },
   "outputs": [
    {
     "name": "stdout",
     "output_type": "stream",
     "text": [
      "3.442937492775816e-06\n",
      "Отвергаем нулевую гипотезу\n"
     ]
    }
   ],
   "source": [
    "xone = data.loc[data['platform'] == 'XOne']['user_score']\n",
    "pc = data.loc[data['platform'] == 'PC']['user_score']\n",
    "# results - вызов метода для проверки гипотез\n",
    "results = st.ttest_ind(xone, pc, equal_var=False, nan_policy = 'omit')\n",
    "# alpha - значение уровня значимости\n",
    "alpha = 0.05\n",
    "# вывод значения p-value на экран\n",
    "print(results.pvalue)\n",
    "# условный оператор с выводом строки с ответом\n",
    "if results.pvalue < alpha:\n",
    "    print('Отвергаем нулевую гипотезу')\n",
    "else: \n",
    "    print('Не получилось отвергнуть нулевую гипотезу ')"
   ]
  },
  {
   "cell_type": "markdown",
   "metadata": {},
   "source": [
    "В качестве нулевой гипотезы я выбрал утверждение, что  среднее пользовательских  рейтингов жанров Action и Sports разные. \n",
    "Нулевая гипотезы была отвергнута"
   ]
  },
  {
   "cell_type": "code",
   "execution_count": 30,
   "metadata": {},
   "outputs": [
    {
     "name": "stdout",
     "output_type": "stream",
     "text": [
      "0.07370217419278532\n",
      "Не получилось отвергнуть нулевую гипотезу \n"
     ]
    }
   ],
   "source": [
    "action = data.loc[data['genre'] == 'Action']['user_score']\n",
    "sports = data.loc[data['genre'] == 'Sports']['user_score']\n",
    "# results - вызов метода для проверки гипотез\n",
    "results = st.ttest_ind(action, sports, equal_var=False, nan_policy = 'omit')\n",
    "# alpha - значение уровня значимости\n",
    "alpha = 0.05\n",
    "# вывод значения p-value на экран\n",
    "print(results.pvalue)\n",
    "# условный оператор с выводом строки с ответом\n",
    "if results.pvalue < alpha:\n",
    "    print('Отвергаем нулевую гипотезу')\n",
    "else: \n",
    "    print('Не получилось отвергнуть нулевую гипотезу ')"
   ]
  },
  {
   "cell_type": "markdown",
   "metadata": {},
   "source": [
    "Общий вывод"
   ]
  },
  {
   "cell_type": "markdown",
   "metadata": {},
   "source": [
    "1. Я заменил в колонке user_scores данные с типа objekt на float, поскольку \n",
    "2. Я заменил все пропуски на нули, поскольку это незначительно влияло на исследование данных  \n",
    "3. Построение гистограмы позволило увидеть, что больше всего игр продавалось в период с 2005 по 2010 гг. \n",
    "4. Средний срок продаж на платформах длиться по 8-10 лет \n",
    "5. В 2017 г. наиболее прибыльной скорее всего будет платформа PS3, однако продажи игр на нее падают уже 2016 г. \n",
    "6. В среднем с 2010 г. больше всего было продаж на платформах PS3, X360, PS4, XOne. \n",
    "7. Оценки критиков и пользователей незначительно влияют на продажи игр\n",
    "8. Наиболее популярными жанрами оказались платформеры и шутеры \n",
    "9. В Северной Америке и Европе наиболее популярными платформами были PS3, PS2 и X360. В Японии, напротив, популярностью пользовалась DS\n",
    "10. В Северной Америке и Европе наиболее популярными жанрами являются Action и спортивные симуляторы. В Японии самыми популярными являются ролевые игры \n",
    "11. Рейтинги с индексом E пользуются наибольшей популярностью у пользователей в Северной Америке. \n",
    "12. Средний рейтинг игр на платформе XOne и PC примерно одиковый\n",
    "13. Средний рейтинг у игр в жанре Action и Sports разный\n",
    "14. Я думаю, что маркетологам стоит думать о рекламе грядущих платформ, потому что популярность нынешних будет только падать\n",
    "\n"
   ]
  }
 ],
 "metadata": {
  "ExecuteTimeLog": [
   {
    "duration": 51,
    "start_time": "2023-03-13T12:11:33.372Z"
   },
   {
    "duration": 7,
    "start_time": "2023-03-13T12:11:38.086Z"
   },
   {
    "duration": 6,
    "start_time": "2023-03-13T12:11:38.933Z"
   },
   {
    "duration": 441,
    "start_time": "2023-03-13T12:12:01.473Z"
   },
   {
    "duration": 114,
    "start_time": "2023-03-13T12:12:34.038Z"
   },
   {
    "duration": 29,
    "start_time": "2023-03-13T12:12:39.541Z"
   },
   {
    "duration": 1239,
    "start_time": "2023-03-13T12:36:45.417Z"
   },
   {
    "duration": 1397,
    "start_time": "2023-03-13T12:37:15.687Z"
   },
   {
    "duration": 10,
    "start_time": "2023-03-13T12:37:55.055Z"
   },
   {
    "duration": 23,
    "start_time": "2023-03-13T12:54:36.092Z"
   },
   {
    "duration": 31,
    "start_time": "2023-03-13T12:54:44.379Z"
   },
   {
    "duration": 16,
    "start_time": "2023-03-13T12:55:04.042Z"
   },
   {
    "duration": 21,
    "start_time": "2023-03-13T12:55:14.377Z"
   },
   {
    "duration": 21,
    "start_time": "2023-03-13T13:00:26.074Z"
   },
   {
    "duration": 12,
    "start_time": "2023-03-13T13:01:05.625Z"
   },
   {
    "duration": 28,
    "start_time": "2023-03-13T13:01:47.438Z"
   },
   {
    "duration": 7,
    "start_time": "2023-03-13T13:02:28.225Z"
   },
   {
    "duration": 8,
    "start_time": "2023-03-13T13:13:39.663Z"
   },
   {
    "duration": 11,
    "start_time": "2023-03-13T13:13:54.020Z"
   },
   {
    "duration": 6,
    "start_time": "2023-03-13T13:13:59.080Z"
   },
   {
    "duration": 4,
    "start_time": "2023-03-13T13:29:14.234Z"
   },
   {
    "duration": 22,
    "start_time": "2023-03-13T13:29:20.428Z"
   },
   {
    "duration": 1495,
    "start_time": "2023-03-13T13:30:33.242Z"
   },
   {
    "duration": 11,
    "start_time": "2023-03-13T13:31:06.476Z"
   },
   {
    "duration": 17,
    "start_time": "2023-03-13T13:31:46.864Z"
   },
   {
    "duration": 16,
    "start_time": "2023-03-13T13:32:03.093Z"
   },
   {
    "duration": 7,
    "start_time": "2023-03-13T13:32:21.421Z"
   },
   {
    "duration": 8,
    "start_time": "2023-03-13T13:32:23.211Z"
   },
   {
    "duration": 11,
    "start_time": "2023-03-13T13:32:43.936Z"
   },
   {
    "duration": 11,
    "start_time": "2023-03-13T13:33:00.691Z"
   },
   {
    "duration": 9,
    "start_time": "2023-03-13T13:33:01.454Z"
   },
   {
    "duration": 11,
    "start_time": "2023-03-13T13:33:15.400Z"
   },
   {
    "duration": 10,
    "start_time": "2023-03-13T13:33:23.517Z"
   },
   {
    "duration": 9,
    "start_time": "2023-03-13T13:33:24.594Z"
   },
   {
    "duration": 2,
    "start_time": "2023-03-13T13:33:31.177Z"
   },
   {
    "duration": 70,
    "start_time": "2023-03-13T13:33:31.933Z"
   },
   {
    "duration": 14,
    "start_time": "2023-03-13T13:33:32.635Z"
   },
   {
    "duration": 6,
    "start_time": "2023-03-13T13:33:33.525Z"
   },
   {
    "duration": 19,
    "start_time": "2023-03-13T13:33:34.395Z"
   },
   {
    "duration": 15,
    "start_time": "2023-03-13T13:33:35.700Z"
   },
   {
    "duration": 3,
    "start_time": "2023-03-13T13:34:30.494Z"
   },
   {
    "duration": 63,
    "start_time": "2023-03-13T13:34:31.127Z"
   },
   {
    "duration": 14,
    "start_time": "2023-03-13T13:34:31.729Z"
   },
   {
    "duration": 4,
    "start_time": "2023-03-13T13:34:32.521Z"
   },
   {
    "duration": 7,
    "start_time": "2023-03-13T13:34:33.377Z"
   },
   {
    "duration": 17,
    "start_time": "2023-03-13T13:34:34.811Z"
   },
   {
    "duration": 5,
    "start_time": "2023-03-13T13:35:11.345Z"
   },
   {
    "duration": 1262,
    "start_time": "2023-03-13T13:36:03.606Z"
   },
   {
    "duration": 5,
    "start_time": "2023-03-13T13:36:16.130Z"
   },
   {
    "duration": 1253,
    "start_time": "2023-03-13T13:41:39.261Z"
   },
   {
    "duration": 9,
    "start_time": "2023-03-13T13:41:57.009Z"
   },
   {
    "duration": 2,
    "start_time": "2023-03-13T13:42:46.428Z"
   },
   {
    "duration": 56,
    "start_time": "2023-03-13T13:42:46.593Z"
   },
   {
    "duration": 22,
    "start_time": "2023-03-13T13:42:46.735Z"
   },
   {
    "duration": 3,
    "start_time": "2023-03-13T13:42:46.905Z"
   },
   {
    "duration": 11,
    "start_time": "2023-03-13T13:42:47.064Z"
   },
   {
    "duration": 6,
    "start_time": "2023-03-13T13:42:47.223Z"
   },
   {
    "duration": 15,
    "start_time": "2023-03-13T13:42:47.447Z"
   },
   {
    "duration": 6,
    "start_time": "2023-03-13T15:59:46.699Z"
   },
   {
    "duration": 1213,
    "start_time": "2023-03-13T16:00:10.827Z"
   },
   {
    "duration": 5,
    "start_time": "2023-03-13T16:00:17.795Z"
   },
   {
    "duration": 11,
    "start_time": "2023-03-13T16:02:14.591Z"
   },
   {
    "duration": 5,
    "start_time": "2023-03-13T16:02:39.625Z"
   },
   {
    "duration": 4,
    "start_time": "2023-03-13T16:02:47.813Z"
   },
   {
    "duration": 8,
    "start_time": "2023-03-13T16:03:02.096Z"
   },
   {
    "duration": 706,
    "start_time": "2023-03-13T16:05:54.744Z"
   },
   {
    "duration": 205,
    "start_time": "2023-03-13T16:08:35.699Z"
   },
   {
    "duration": 200,
    "start_time": "2023-03-13T16:09:17.296Z"
   },
   {
    "duration": 284,
    "start_time": "2023-03-13T16:09:41.906Z"
   },
   {
    "duration": 165,
    "start_time": "2023-03-13T16:09:59.512Z"
   },
   {
    "duration": 4,
    "start_time": "2023-03-13T16:10:07.795Z"
   },
   {
    "duration": 89,
    "start_time": "2023-03-13T16:11:32.411Z"
   },
   {
    "duration": 102,
    "start_time": "2023-03-13T16:11:45.403Z"
   },
   {
    "duration": 6,
    "start_time": "2023-03-13T16:14:21.899Z"
   },
   {
    "duration": 495,
    "start_time": "2023-03-13T16:14:45.591Z"
   },
   {
    "duration": 171,
    "start_time": "2023-03-13T16:15:02.098Z"
   },
   {
    "duration": 99,
    "start_time": "2023-03-13T16:16:07.941Z"
   },
   {
    "duration": 68,
    "start_time": "2023-03-13T16:16:19.793Z"
   },
   {
    "duration": 8,
    "start_time": "2023-03-13T16:16:26.196Z"
   },
   {
    "duration": 8,
    "start_time": "2023-03-13T16:16:34.748Z"
   },
   {
    "duration": 5,
    "start_time": "2023-03-13T16:16:56.091Z"
   },
   {
    "duration": 187,
    "start_time": "2023-03-13T16:17:42.051Z"
   },
   {
    "duration": 13,
    "start_time": "2023-03-13T16:18:04.635Z"
   },
   {
    "duration": 7,
    "start_time": "2023-03-13T16:18:29.236Z"
   },
   {
    "duration": 5,
    "start_time": "2023-03-13T16:18:40.894Z"
   },
   {
    "duration": 4,
    "start_time": "2023-03-13T16:18:56.807Z"
   },
   {
    "duration": 6,
    "start_time": "2023-03-13T16:19:17.493Z"
   },
   {
    "duration": 6,
    "start_time": "2023-03-13T16:19:24.703Z"
   },
   {
    "duration": 6,
    "start_time": "2023-03-13T16:19:36.144Z"
   },
   {
    "duration": 10,
    "start_time": "2023-03-13T16:21:36.698Z"
   },
   {
    "duration": 11,
    "start_time": "2023-03-13T16:21:46.422Z"
   },
   {
    "duration": 6,
    "start_time": "2023-03-13T16:21:53.560Z"
   },
   {
    "duration": 1747,
    "start_time": "2023-03-13T16:23:46.499Z"
   },
   {
    "duration": 277,
    "start_time": "2023-03-13T16:23:59.021Z"
   },
   {
    "duration": 244,
    "start_time": "2023-03-13T16:25:50.029Z"
   },
   {
    "duration": 229,
    "start_time": "2023-03-13T16:25:58.475Z"
   },
   {
    "duration": 238,
    "start_time": "2023-03-13T16:26:07.903Z"
   },
   {
    "duration": 259,
    "start_time": "2023-03-13T16:27:12.934Z"
   },
   {
    "duration": 354,
    "start_time": "2023-03-13T16:27:30.091Z"
   },
   {
    "duration": 196,
    "start_time": "2023-03-13T16:28:43.547Z"
   },
   {
    "duration": 206,
    "start_time": "2023-03-13T16:28:55.463Z"
   },
   {
    "duration": 172,
    "start_time": "2023-03-13T16:29:07.186Z"
   },
   {
    "duration": 195,
    "start_time": "2023-03-13T16:29:18.395Z"
   },
   {
    "duration": 196,
    "start_time": "2023-03-13T16:29:26.851Z"
   },
   {
    "duration": 280,
    "start_time": "2023-03-13T16:29:37.100Z"
   },
   {
    "duration": 323,
    "start_time": "2023-03-13T16:29:47.332Z"
   },
   {
    "duration": 10,
    "start_time": "2023-03-13T16:35:25.011Z"
   },
   {
    "duration": 7,
    "start_time": "2023-03-13T16:36:00.051Z"
   },
   {
    "duration": 8,
    "start_time": "2023-03-13T16:36:28.656Z"
   },
   {
    "duration": 7,
    "start_time": "2023-03-13T16:36:46.352Z"
   },
   {
    "duration": 6,
    "start_time": "2023-03-13T16:37:10.071Z"
   },
   {
    "duration": 22,
    "start_time": "2023-03-13T16:37:26.592Z"
   },
   {
    "duration": 69,
    "start_time": "2023-03-13T16:39:20.210Z"
   },
   {
    "duration": 101,
    "start_time": "2023-03-13T16:40:06.992Z"
   },
   {
    "duration": 88,
    "start_time": "2023-03-13T16:40:17.012Z"
   },
   {
    "duration": 11,
    "start_time": "2023-03-13T16:40:33.931Z"
   },
   {
    "duration": 8,
    "start_time": "2023-03-13T16:45:58.712Z"
   },
   {
    "duration": 149,
    "start_time": "2023-03-13T16:46:10.369Z"
   },
   {
    "duration": 6,
    "start_time": "2023-03-13T16:52:02.764Z"
   },
   {
    "duration": 4,
    "start_time": "2023-03-13T16:52:21.853Z"
   },
   {
    "duration": 3,
    "start_time": "2023-03-13T16:54:41.512Z"
   },
   {
    "duration": 87,
    "start_time": "2023-03-13T16:54:41.524Z"
   },
   {
    "duration": 17,
    "start_time": "2023-03-13T16:54:41.648Z"
   },
   {
    "duration": 4,
    "start_time": "2023-03-13T16:54:41.794Z"
   },
   {
    "duration": 9,
    "start_time": "2023-03-13T16:54:41.993Z"
   },
   {
    "duration": 6,
    "start_time": "2023-03-13T16:54:42.198Z"
   },
   {
    "duration": 5,
    "start_time": "2023-03-13T16:54:43.095Z"
   },
   {
    "duration": 162,
    "start_time": "2023-03-13T16:55:30.633Z"
   },
   {
    "duration": 25,
    "start_time": "2023-03-13T16:58:42.826Z"
   },
   {
    "duration": 28,
    "start_time": "2023-03-13T16:58:48.810Z"
   },
   {
    "duration": 36,
    "start_time": "2023-03-13T16:59:17.963Z"
   },
   {
    "duration": 186,
    "start_time": "2023-03-13T16:59:36.644Z"
   },
   {
    "duration": 33,
    "start_time": "2023-03-13T17:03:16.722Z"
   },
   {
    "duration": 24,
    "start_time": "2023-03-13T17:03:25.434Z"
   },
   {
    "duration": 63,
    "start_time": "2023-03-13T17:07:48.333Z"
   },
   {
    "duration": 1325,
    "start_time": "2023-03-13T17:43:24.127Z"
   },
   {
    "duration": 1224,
    "start_time": "2023-03-13T17:43:50.115Z"
   },
   {
    "duration": 30,
    "start_time": "2023-03-13T17:44:13.001Z"
   },
   {
    "duration": 30,
    "start_time": "2023-03-13T17:44:30.286Z"
   },
   {
    "duration": 6,
    "start_time": "2023-03-13T17:52:55.610Z"
   },
   {
    "duration": 28,
    "start_time": "2023-03-13T17:53:03.334Z"
   },
   {
    "duration": 6,
    "start_time": "2023-03-13T17:54:12.825Z"
   },
   {
    "duration": 187,
    "start_time": "2023-03-13T17:54:27.986Z"
   },
   {
    "duration": 8,
    "start_time": "2023-03-13T17:59:32.995Z"
   },
   {
    "duration": 177,
    "start_time": "2023-03-13T17:59:42.541Z"
   },
   {
    "duration": 4,
    "start_time": "2023-03-13T18:02:23.788Z"
   },
   {
    "duration": 611,
    "start_time": "2023-03-13T18:02:40.490Z"
   },
   {
    "duration": 27,
    "start_time": "2023-03-13T18:02:57.000Z"
   },
   {
    "duration": 8,
    "start_time": "2023-03-13T18:04:53.380Z"
   },
   {
    "duration": 67,
    "start_time": "2023-03-13T18:04:53.390Z"
   },
   {
    "duration": 18,
    "start_time": "2023-03-13T18:04:53.458Z"
   },
   {
    "duration": 7,
    "start_time": "2023-03-13T18:04:53.478Z"
   },
   {
    "duration": 12,
    "start_time": "2023-03-13T18:04:53.487Z"
   },
   {
    "duration": 11,
    "start_time": "2023-03-13T18:04:53.502Z"
   },
   {
    "duration": 76,
    "start_time": "2023-03-13T18:04:53.514Z"
   },
   {
    "duration": 7,
    "start_time": "2023-03-13T18:04:53.592Z"
   },
   {
    "duration": 195,
    "start_time": "2023-03-13T18:04:53.601Z"
   },
   {
    "duration": 11,
    "start_time": "2023-03-13T18:04:53.797Z"
   },
   {
    "duration": 13,
    "start_time": "2023-03-13T18:04:53.810Z"
   },
   {
    "duration": 51,
    "start_time": "2023-03-14T10:35:51.225Z"
   },
   {
    "duration": 455,
    "start_time": "2023-03-14T10:35:56.661Z"
   },
   {
    "duration": 92,
    "start_time": "2023-03-14T10:35:57.118Z"
   },
   {
    "duration": 15,
    "start_time": "2023-03-14T10:35:57.212Z"
   },
   {
    "duration": 8,
    "start_time": "2023-03-14T10:35:57.229Z"
   },
   {
    "duration": 8,
    "start_time": "2023-03-14T10:35:57.448Z"
   },
   {
    "duration": 6,
    "start_time": "2023-03-14T10:35:57.471Z"
   },
   {
    "duration": 103,
    "start_time": "2023-03-14T10:35:57.622Z"
   },
   {
    "duration": 8,
    "start_time": "2023-03-14T10:35:57.783Z"
   },
   {
    "duration": 660,
    "start_time": "2023-03-14T10:35:57.945Z"
   },
   {
    "duration": 12,
    "start_time": "2023-03-14T10:35:58.607Z"
   },
   {
    "duration": 5,
    "start_time": "2023-03-14T10:35:58.621Z"
   },
   {
    "duration": 79,
    "start_time": "2023-03-14T10:40:24.116Z"
   },
   {
    "duration": 63,
    "start_time": "2023-03-14T10:41:19.580Z"
   },
   {
    "duration": 16,
    "start_time": "2023-03-14T10:41:34.251Z"
   },
   {
    "duration": 17,
    "start_time": "2023-03-14T10:41:46.901Z"
   },
   {
    "duration": 514,
    "start_time": "2023-03-14T10:49:18.747Z"
   },
   {
    "duration": 50,
    "start_time": "2023-03-14T10:49:19.535Z"
   },
   {
    "duration": 14,
    "start_time": "2023-03-14T10:49:19.588Z"
   },
   {
    "duration": 4,
    "start_time": "2023-03-14T10:49:19.740Z"
   },
   {
    "duration": 8,
    "start_time": "2023-03-14T10:49:19.997Z"
   },
   {
    "duration": 6,
    "start_time": "2023-03-14T10:49:20.059Z"
   },
   {
    "duration": 54,
    "start_time": "2023-03-14T10:49:20.296Z"
   },
   {
    "duration": 6,
    "start_time": "2023-03-14T10:49:20.375Z"
   },
   {
    "duration": 199,
    "start_time": "2023-03-14T10:49:20.547Z"
   },
   {
    "duration": 9,
    "start_time": "2023-03-14T10:49:20.748Z"
   },
   {
    "duration": 16,
    "start_time": "2023-03-14T10:49:20.842Z"
   },
   {
    "duration": 10,
    "start_time": "2023-03-14T10:49:42.964Z"
   },
   {
    "duration": 50,
    "start_time": "2023-03-14T10:51:11.712Z"
   },
   {
    "duration": 25,
    "start_time": "2023-03-14T10:51:26.473Z"
   },
   {
    "duration": 3,
    "start_time": "2023-03-14T10:52:22.295Z"
   },
   {
    "duration": 52,
    "start_time": "2023-03-14T10:52:22.304Z"
   },
   {
    "duration": 15,
    "start_time": "2023-03-14T10:52:22.441Z"
   },
   {
    "duration": 4,
    "start_time": "2023-03-14T10:52:22.604Z"
   },
   {
    "duration": 8,
    "start_time": "2023-03-14T10:52:22.757Z"
   },
   {
    "duration": 2,
    "start_time": "2023-03-14T10:52:22.914Z"
   },
   {
    "duration": 6,
    "start_time": "2023-03-14T10:52:23.073Z"
   },
   {
    "duration": 6,
    "start_time": "2023-03-14T10:52:23.219Z"
   },
   {
    "duration": 135,
    "start_time": "2023-03-14T10:52:23.382Z"
   },
   {
    "duration": 7,
    "start_time": "2023-03-14T10:52:23.540Z"
   },
   {
    "duration": 23,
    "start_time": "2023-03-14T10:52:23.671Z"
   },
   {
    "duration": 4,
    "start_time": "2023-03-14T10:52:57.412Z"
   },
   {
    "duration": 3,
    "start_time": "2023-03-14T10:52:57.444Z"
   },
   {
    "duration": 6,
    "start_time": "2023-03-14T10:52:57.605Z"
   },
   {
    "duration": 7,
    "start_time": "2023-03-14T10:52:57.749Z"
   },
   {
    "duration": 6,
    "start_time": "2023-03-14T10:52:57.912Z"
   },
   {
    "duration": 248,
    "start_time": "2023-03-14T10:52:58.087Z"
   },
   {
    "duration": 8,
    "start_time": "2023-03-14T10:52:58.338Z"
   },
   {
    "duration": 25,
    "start_time": "2023-03-14T10:52:58.468Z"
   },
   {
    "duration": 1165,
    "start_time": "2023-03-14T10:55:50.224Z"
   },
   {
    "duration": 316,
    "start_time": "2023-03-14T10:56:41.603Z"
   },
   {
    "duration": 313,
    "start_time": "2023-03-14T10:58:35.840Z"
   },
   {
    "duration": 3,
    "start_time": "2023-03-14T10:59:04.867Z"
   },
   {
    "duration": 53,
    "start_time": "2023-03-14T10:59:04.901Z"
   },
   {
    "duration": 17,
    "start_time": "2023-03-14T10:59:05.041Z"
   },
   {
    "duration": 4,
    "start_time": "2023-03-14T10:59:05.199Z"
   },
   {
    "duration": 8,
    "start_time": "2023-03-14T10:59:05.352Z"
   },
   {
    "duration": 2,
    "start_time": "2023-03-14T10:59:05.528Z"
   },
   {
    "duration": 6,
    "start_time": "2023-03-14T10:59:05.668Z"
   },
   {
    "duration": 6,
    "start_time": "2023-03-14T10:59:05.836Z"
   },
   {
    "duration": 141,
    "start_time": "2023-03-14T10:59:05.999Z"
   },
   {
    "duration": 8,
    "start_time": "2023-03-14T10:59:06.169Z"
   },
   {
    "duration": 265,
    "start_time": "2023-03-14T10:59:06.332Z"
   },
   {
    "duration": 273,
    "start_time": "2023-03-14T10:59:28.105Z"
   },
   {
    "duration": 371,
    "start_time": "2023-03-14T10:59:43.770Z"
   },
   {
    "duration": 291,
    "start_time": "2023-03-14T10:59:55.620Z"
   },
   {
    "duration": 267,
    "start_time": "2023-03-14T11:04:55.007Z"
   },
   {
    "duration": 272,
    "start_time": "2023-03-14T11:05:00.077Z"
   },
   {
    "duration": 268,
    "start_time": "2023-03-14T11:05:17.979Z"
   },
   {
    "duration": 912,
    "start_time": "2023-03-14T11:05:48.165Z"
   },
   {
    "duration": 29,
    "start_time": "2023-03-14T11:11:19.617Z"
   },
   {
    "duration": 272,
    "start_time": "2023-03-14T11:11:56.897Z"
   },
   {
    "duration": 438,
    "start_time": "2023-03-14T11:14:17.198Z"
   },
   {
    "duration": 290,
    "start_time": "2023-03-14T11:15:17.868Z"
   },
   {
    "duration": 337,
    "start_time": "2023-03-14T11:15:33.109Z"
   },
   {
    "duration": 392,
    "start_time": "2023-03-14T11:16:59.146Z"
   },
   {
    "duration": 413,
    "start_time": "2023-03-14T11:20:04.623Z"
   },
   {
    "duration": 30,
    "start_time": "2023-03-14T11:27:59.844Z"
   },
   {
    "duration": 401,
    "start_time": "2023-03-14T11:28:06.674Z"
   },
   {
    "duration": 6,
    "start_time": "2023-03-14T11:28:27.463Z"
   },
   {
    "duration": 6,
    "start_time": "2023-03-14T11:35:09.924Z"
   },
   {
    "duration": 3,
    "start_time": "2023-03-14T11:51:44.961Z"
   },
   {
    "duration": 61,
    "start_time": "2023-03-14T11:51:46.744Z"
   },
   {
    "duration": 17,
    "start_time": "2023-03-14T11:51:47.427Z"
   },
   {
    "duration": 4,
    "start_time": "2023-03-14T11:51:48.358Z"
   },
   {
    "duration": 13,
    "start_time": "2023-03-14T11:51:48.366Z"
   },
   {
    "duration": 3,
    "start_time": "2023-03-14T11:51:48.519Z"
   },
   {
    "duration": 8,
    "start_time": "2023-03-14T11:51:48.659Z"
   },
   {
    "duration": 8,
    "start_time": "2023-03-14T11:51:48.853Z"
   },
   {
    "duration": 204,
    "start_time": "2023-03-14T11:51:49.011Z"
   },
   {
    "duration": 9,
    "start_time": "2023-03-14T11:51:49.217Z"
   },
   {
    "duration": 17,
    "start_time": "2023-03-14T11:51:49.352Z"
   },
   {
    "duration": 3,
    "start_time": "2023-03-14T11:51:49.618Z"
   },
   {
    "duration": 14,
    "start_time": "2023-03-14T11:53:50.599Z"
   },
   {
    "duration": 31,
    "start_time": "2023-03-14T11:55:42.707Z"
   },
   {
    "duration": 36,
    "start_time": "2023-03-14T11:56:48.957Z"
   },
   {
    "duration": 15,
    "start_time": "2023-03-14T11:58:45.047Z"
   },
   {
    "duration": 12,
    "start_time": "2023-03-14T11:59:24.933Z"
   },
   {
    "duration": 14,
    "start_time": "2023-03-14T11:59:50.278Z"
   },
   {
    "duration": 456,
    "start_time": "2023-03-14T12:00:58.056Z"
   },
   {
    "duration": 16,
    "start_time": "2023-03-14T12:02:11.105Z"
   },
   {
    "duration": 263,
    "start_time": "2023-03-14T12:02:30.445Z"
   },
   {
    "duration": 597,
    "start_time": "2023-03-14T12:03:02.300Z"
   },
   {
    "duration": 569,
    "start_time": "2023-03-14T12:05:20.158Z"
   },
   {
    "duration": 22,
    "start_time": "2023-03-14T12:06:46.049Z"
   },
   {
    "duration": 389,
    "start_time": "2023-03-14T12:10:58.984Z"
   },
   {
    "duration": 16,
    "start_time": "2023-03-14T12:15:54.888Z"
   },
   {
    "duration": 267,
    "start_time": "2023-03-14T12:16:29.448Z"
   },
   {
    "duration": 316,
    "start_time": "2023-03-14T12:17:32.993Z"
   },
   {
    "duration": 20,
    "start_time": "2023-03-14T12:19:16.751Z"
   },
   {
    "duration": 325,
    "start_time": "2023-03-14T12:19:22.876Z"
   },
   {
    "duration": 3,
    "start_time": "2023-03-14T12:19:34.867Z"
   },
   {
    "duration": 51,
    "start_time": "2023-03-14T12:19:34.893Z"
   },
   {
    "duration": 16,
    "start_time": "2023-03-14T12:19:34.952Z"
   },
   {
    "duration": 4,
    "start_time": "2023-03-14T12:19:35.104Z"
   },
   {
    "duration": 14,
    "start_time": "2023-03-14T12:19:35.295Z"
   },
   {
    "duration": 3,
    "start_time": "2023-03-14T12:19:35.439Z"
   },
   {
    "duration": 7,
    "start_time": "2023-03-14T12:19:35.613Z"
   },
   {
    "duration": 7,
    "start_time": "2023-03-14T12:19:35.775Z"
   },
   {
    "duration": 203,
    "start_time": "2023-03-14T12:19:35.926Z"
   },
   {
    "duration": 11,
    "start_time": "2023-03-14T12:19:36.131Z"
   },
   {
    "duration": 13,
    "start_time": "2023-03-14T12:19:36.292Z"
   },
   {
    "duration": 404,
    "start_time": "2023-03-14T12:19:36.437Z"
   },
   {
    "duration": 904,
    "start_time": "2023-03-14T12:19:58.896Z"
   },
   {
    "duration": 323,
    "start_time": "2023-03-14T12:20:23.598Z"
   },
   {
    "duration": 353,
    "start_time": "2023-03-14T12:21:39.524Z"
   },
   {
    "duration": 374,
    "start_time": "2023-03-14T12:21:56.304Z"
   },
   {
    "duration": 121,
    "start_time": "2023-03-14T12:22:05.589Z"
   },
   {
    "duration": 130,
    "start_time": "2023-03-14T12:22:21.535Z"
   },
   {
    "duration": 3,
    "start_time": "2023-03-14T12:22:32.597Z"
   },
   {
    "duration": 59,
    "start_time": "2023-03-14T12:22:32.607Z"
   },
   {
    "duration": 16,
    "start_time": "2023-03-14T12:22:32.720Z"
   },
   {
    "duration": 4,
    "start_time": "2023-03-14T12:22:32.895Z"
   },
   {
    "duration": 10,
    "start_time": "2023-03-14T12:22:33.091Z"
   },
   {
    "duration": 3,
    "start_time": "2023-03-14T12:22:33.241Z"
   },
   {
    "duration": 7,
    "start_time": "2023-03-14T12:22:33.414Z"
   },
   {
    "duration": 6,
    "start_time": "2023-03-14T12:22:33.595Z"
   },
   {
    "duration": 44,
    "start_time": "2023-03-14T12:22:33.745Z"
   },
   {
    "duration": 8,
    "start_time": "2023-03-14T12:22:33.894Z"
   },
   {
    "duration": 15,
    "start_time": "2023-03-14T12:22:34.090Z"
   },
   {
    "duration": 120,
    "start_time": "2023-03-14T12:22:34.239Z"
   },
   {
    "duration": 3,
    "start_time": "2023-03-14T12:23:05.089Z"
   },
   {
    "duration": 66,
    "start_time": "2023-03-14T12:23:05.307Z"
   },
   {
    "duration": 16,
    "start_time": "2023-03-14T12:23:05.590Z"
   },
   {
    "duration": 4,
    "start_time": "2023-03-14T12:23:05.704Z"
   },
   {
    "duration": 10,
    "start_time": "2023-03-14T12:23:05.933Z"
   },
   {
    "duration": 3,
    "start_time": "2023-03-14T12:23:06.741Z"
   },
   {
    "duration": 9,
    "start_time": "2023-03-14T12:23:07.497Z"
   },
   {
    "duration": 7,
    "start_time": "2023-03-14T12:23:08.105Z"
   },
   {
    "duration": 200,
    "start_time": "2023-03-14T12:23:08.993Z"
   },
   {
    "duration": 145,
    "start_time": "2023-03-14T12:23:45.136Z"
   },
   {
    "duration": 120,
    "start_time": "2023-03-14T12:24:15.530Z"
   },
   {
    "duration": 177,
    "start_time": "2023-03-14T12:24:49.318Z"
   },
   {
    "duration": 4,
    "start_time": "2023-03-14T12:25:01.691Z"
   },
   {
    "duration": 68,
    "start_time": "2023-03-14T12:25:01.715Z"
   },
   {
    "duration": 23,
    "start_time": "2023-03-14T12:25:01.877Z"
   },
   {
    "duration": 5,
    "start_time": "2023-03-14T12:25:02.042Z"
   },
   {
    "duration": 9,
    "start_time": "2023-03-14T12:25:02.209Z"
   },
   {
    "duration": 3,
    "start_time": "2023-03-14T12:25:02.348Z"
   },
   {
    "duration": 8,
    "start_time": "2023-03-14T12:25:02.533Z"
   },
   {
    "duration": 7,
    "start_time": "2023-03-14T12:25:02.696Z"
   },
   {
    "duration": 206,
    "start_time": "2023-03-14T12:25:02.856Z"
   },
   {
    "duration": 16,
    "start_time": "2023-03-14T12:25:03.065Z"
   },
   {
    "duration": 327,
    "start_time": "2023-03-14T12:25:03.255Z"
   },
   {
    "duration": 326,
    "start_time": "2023-03-14T12:25:03.805Z"
   },
   {
    "duration": 363,
    "start_time": "2023-03-14T12:28:08.392Z"
   },
   {
    "duration": 3,
    "start_time": "2023-03-14T12:28:20.229Z"
   },
   {
    "duration": 65,
    "start_time": "2023-03-14T12:28:20.243Z"
   },
   {
    "duration": 16,
    "start_time": "2023-03-14T12:28:20.354Z"
   },
   {
    "duration": 4,
    "start_time": "2023-03-14T12:28:20.507Z"
   },
   {
    "duration": 15,
    "start_time": "2023-03-14T12:28:20.670Z"
   },
   {
    "duration": 3,
    "start_time": "2023-03-14T12:28:20.827Z"
   },
   {
    "duration": 7,
    "start_time": "2023-03-14T12:28:21.004Z"
   },
   {
    "duration": 7,
    "start_time": "2023-03-14T12:28:21.160Z"
   },
   {
    "duration": 258,
    "start_time": "2023-03-14T12:28:21.329Z"
   },
   {
    "duration": 10,
    "start_time": "2023-03-14T12:28:21.590Z"
   },
   {
    "duration": 370,
    "start_time": "2023-03-14T12:28:21.659Z"
   },
   {
    "duration": 354,
    "start_time": "2023-03-14T12:28:32.975Z"
   },
   {
    "duration": 3,
    "start_time": "2023-03-14T12:28:39.506Z"
   },
   {
    "duration": 52,
    "start_time": "2023-03-14T12:28:39.581Z"
   },
   {
    "duration": 16,
    "start_time": "2023-03-14T12:28:39.730Z"
   },
   {
    "duration": 3,
    "start_time": "2023-03-14T12:28:39.904Z"
   },
   {
    "duration": 10,
    "start_time": "2023-03-14T12:28:40.066Z"
   },
   {
    "duration": 3,
    "start_time": "2023-03-14T12:28:40.226Z"
   },
   {
    "duration": 8,
    "start_time": "2023-03-14T12:28:40.389Z"
   },
   {
    "duration": 8,
    "start_time": "2023-03-14T12:28:40.546Z"
   },
   {
    "duration": 198,
    "start_time": "2023-03-14T12:28:40.700Z"
   },
   {
    "duration": 8,
    "start_time": "2023-03-14T12:28:40.900Z"
   },
   {
    "duration": 317,
    "start_time": "2023-03-14T12:28:41.048Z"
   },
   {
    "duration": 28,
    "start_time": "2023-03-14T12:29:25.860Z"
   },
   {
    "duration": 18,
    "start_time": "2023-03-14T12:30:05.693Z"
   },
   {
    "duration": 32,
    "start_time": "2023-03-14T12:30:48.773Z"
   },
   {
    "duration": 17,
    "start_time": "2023-03-14T12:31:08.788Z"
   },
   {
    "duration": 228,
    "start_time": "2023-03-14T12:31:51.001Z"
   },
   {
    "duration": 24,
    "start_time": "2023-03-14T12:32:22.068Z"
   },
   {
    "duration": 18,
    "start_time": "2023-03-14T12:32:41.259Z"
   },
   {
    "duration": 30,
    "start_time": "2023-03-14T12:33:09.703Z"
   },
   {
    "duration": 22,
    "start_time": "2023-03-14T12:33:30.299Z"
   },
   {
    "duration": 18,
    "start_time": "2023-03-14T12:33:40.806Z"
   },
   {
    "duration": 22,
    "start_time": "2023-03-14T12:33:48.121Z"
   },
   {
    "duration": 17,
    "start_time": "2023-03-14T12:34:12.783Z"
   },
   {
    "duration": 363,
    "start_time": "2023-03-14T12:34:19.116Z"
   },
   {
    "duration": 422,
    "start_time": "2023-03-14T12:41:32.509Z"
   },
   {
    "duration": 3,
    "start_time": "2023-03-14T12:41:38.696Z"
   },
   {
    "duration": 50,
    "start_time": "2023-03-14T12:41:38.728Z"
   },
   {
    "duration": 18,
    "start_time": "2023-03-14T12:41:38.896Z"
   },
   {
    "duration": 5,
    "start_time": "2023-03-14T12:41:39.034Z"
   },
   {
    "duration": 9,
    "start_time": "2023-03-14T12:41:39.194Z"
   },
   {
    "duration": 2,
    "start_time": "2023-03-14T12:41:39.346Z"
   },
   {
    "duration": 9,
    "start_time": "2023-03-14T12:41:39.504Z"
   },
   {
    "duration": 8,
    "start_time": "2023-03-14T12:41:39.668Z"
   },
   {
    "duration": 202,
    "start_time": "2023-03-14T12:41:39.829Z"
   },
   {
    "duration": 8,
    "start_time": "2023-03-14T12:41:40.034Z"
   },
   {
    "duration": 347,
    "start_time": "2023-03-14T12:41:40.139Z"
   },
   {
    "duration": 4,
    "start_time": "2023-03-14T12:41:49.962Z"
   },
   {
    "duration": 62,
    "start_time": "2023-03-14T12:41:50.800Z"
   },
   {
    "duration": 18,
    "start_time": "2023-03-14T12:41:51.474Z"
   },
   {
    "duration": 5,
    "start_time": "2023-03-14T12:41:52.207Z"
   },
   {
    "duration": 13,
    "start_time": "2023-03-14T12:41:52.892Z"
   },
   {
    "duration": 3,
    "start_time": "2023-03-14T12:41:53.596Z"
   },
   {
    "duration": 9,
    "start_time": "2023-03-14T12:41:54.271Z"
   },
   {
    "duration": 7,
    "start_time": "2023-03-14T12:41:54.894Z"
   },
   {
    "duration": 322,
    "start_time": "2023-03-14T12:41:55.652Z"
   },
   {
    "duration": 12,
    "start_time": "2023-03-14T12:41:56.912Z"
   },
   {
    "duration": 327,
    "start_time": "2023-03-14T12:41:57.777Z"
   },
   {
    "duration": 3,
    "start_time": "2023-03-14T12:42:13.413Z"
   },
   {
    "duration": 56,
    "start_time": "2023-03-14T12:42:14.200Z"
   },
   {
    "duration": 23,
    "start_time": "2023-03-14T12:42:14.771Z"
   },
   {
    "duration": 4,
    "start_time": "2023-03-14T12:42:15.504Z"
   },
   {
    "duration": 13,
    "start_time": "2023-03-14T12:42:16.141Z"
   },
   {
    "duration": 2,
    "start_time": "2023-03-14T12:42:16.757Z"
   },
   {
    "duration": 8,
    "start_time": "2023-03-14T12:42:17.467Z"
   },
   {
    "duration": 7,
    "start_time": "2023-03-14T12:42:18.031Z"
   },
   {
    "duration": 411,
    "start_time": "2023-03-14T12:42:18.662Z"
   },
   {
    "duration": 9,
    "start_time": "2023-03-14T12:42:19.997Z"
   },
   {
    "duration": 365,
    "start_time": "2023-03-14T12:42:20.958Z"
   },
   {
    "duration": 8,
    "start_time": "2023-03-14T12:43:08.847Z"
   },
   {
    "duration": 353,
    "start_time": "2023-03-14T12:43:08.865Z"
   },
   {
    "duration": 362,
    "start_time": "2023-03-14T12:43:50.464Z"
   },
   {
    "duration": 3,
    "start_time": "2023-03-14T12:44:55.569Z"
   },
   {
    "duration": 54,
    "start_time": "2023-03-14T12:44:56.325Z"
   },
   {
    "duration": 19,
    "start_time": "2023-03-14T12:44:56.992Z"
   },
   {
    "duration": 4,
    "start_time": "2023-03-14T12:44:57.775Z"
   },
   {
    "duration": 10,
    "start_time": "2023-03-14T12:44:58.549Z"
   },
   {
    "duration": 2,
    "start_time": "2023-03-14T12:44:59.192Z"
   },
   {
    "duration": 9,
    "start_time": "2023-03-14T12:44:59.871Z"
   },
   {
    "duration": 7,
    "start_time": "2023-03-14T12:45:00.691Z"
   },
   {
    "duration": 199,
    "start_time": "2023-03-14T12:45:01.506Z"
   },
   {
    "duration": 11,
    "start_time": "2023-03-14T12:45:02.566Z"
   },
   {
    "duration": 335,
    "start_time": "2023-03-14T12:45:03.539Z"
   },
   {
    "duration": 398,
    "start_time": "2023-03-14T12:46:04.202Z"
   },
   {
    "duration": 327,
    "start_time": "2023-03-14T12:47:15.901Z"
   },
   {
    "duration": 3,
    "start_time": "2023-03-14T12:48:27.596Z"
   },
   {
    "duration": 67,
    "start_time": "2023-03-14T12:48:28.504Z"
   },
   {
    "duration": 20,
    "start_time": "2023-03-14T12:48:28.796Z"
   },
   {
    "duration": 4,
    "start_time": "2023-03-14T12:48:29.094Z"
   },
   {
    "duration": 9,
    "start_time": "2023-03-14T12:48:29.105Z"
   },
   {
    "duration": 3,
    "start_time": "2023-03-14T12:48:29.264Z"
   },
   {
    "duration": 8,
    "start_time": "2023-03-14T12:48:29.422Z"
   },
   {
    "duration": 7,
    "start_time": "2023-03-14T12:48:29.583Z"
   },
   {
    "duration": 194,
    "start_time": "2023-03-14T12:48:29.803Z"
   },
   {
    "duration": 9,
    "start_time": "2023-03-14T12:48:30.342Z"
   },
   {
    "duration": 319,
    "start_time": "2023-03-14T12:49:12.517Z"
   },
   {
    "duration": 3,
    "start_time": "2023-03-14T12:49:21.276Z"
   },
   {
    "duration": 50,
    "start_time": "2023-03-14T12:49:21.302Z"
   },
   {
    "duration": 16,
    "start_time": "2023-03-14T12:49:21.400Z"
   },
   {
    "duration": 4,
    "start_time": "2023-03-14T12:49:21.558Z"
   },
   {
    "duration": 10,
    "start_time": "2023-03-14T12:49:21.723Z"
   },
   {
    "duration": 3,
    "start_time": "2023-03-14T12:49:21.868Z"
   },
   {
    "duration": 8,
    "start_time": "2023-03-14T12:49:22.022Z"
   },
   {
    "duration": 7,
    "start_time": "2023-03-14T12:49:22.202Z"
   },
   {
    "duration": 222,
    "start_time": "2023-03-14T12:49:22.416Z"
   },
   {
    "duration": 9,
    "start_time": "2023-03-14T12:49:23.809Z"
   },
   {
    "duration": 323,
    "start_time": "2023-03-14T12:49:24.661Z"
   },
   {
    "duration": 338,
    "start_time": "2023-03-14T12:49:47.416Z"
   },
   {
    "duration": 4,
    "start_time": "2023-03-14T12:49:54.246Z"
   },
   {
    "duration": 63,
    "start_time": "2023-03-14T12:49:54.265Z"
   },
   {
    "duration": 16,
    "start_time": "2023-03-14T12:49:54.401Z"
   },
   {
    "duration": 5,
    "start_time": "2023-03-14T12:49:54.561Z"
   },
   {
    "duration": 10,
    "start_time": "2023-03-14T12:49:54.707Z"
   },
   {
    "duration": 3,
    "start_time": "2023-03-14T12:49:54.870Z"
   },
   {
    "duration": 9,
    "start_time": "2023-03-14T12:49:55.016Z"
   },
   {
    "duration": 7,
    "start_time": "2023-03-14T12:49:55.174Z"
   },
   {
    "duration": 217,
    "start_time": "2023-03-14T12:49:55.324Z"
   },
   {
    "duration": 8,
    "start_time": "2023-03-14T12:49:55.543Z"
   },
   {
    "duration": 319,
    "start_time": "2023-03-14T12:49:56.586Z"
   },
   {
    "duration": 322,
    "start_time": "2023-03-14T12:50:12.514Z"
   },
   {
    "duration": 811,
    "start_time": "2023-03-14T12:50:28.290Z"
   },
   {
    "duration": 867,
    "start_time": "2023-03-14T12:52:11.889Z"
   },
   {
    "duration": 501,
    "start_time": "2023-03-14T12:52:25.337Z"
   },
   {
    "duration": 306,
    "start_time": "2023-03-14T12:53:14.197Z"
   },
   {
    "duration": 22,
    "start_time": "2023-03-14T12:53:28.212Z"
   },
   {
    "duration": 80,
    "start_time": "2023-03-14T12:56:36.145Z"
   },
   {
    "duration": 281,
    "start_time": "2023-03-14T12:56:59.308Z"
   },
   {
    "duration": 307,
    "start_time": "2023-03-14T12:57:35.036Z"
   },
   {
    "duration": 322,
    "start_time": "2023-03-14T13:00:55.622Z"
   },
   {
    "duration": 22,
    "start_time": "2023-03-14T13:01:09.423Z"
   },
   {
    "duration": 402,
    "start_time": "2023-03-14T13:02:02.288Z"
   },
   {
    "duration": 383,
    "start_time": "2023-03-14T13:12:41.923Z"
   },
   {
    "duration": 339,
    "start_time": "2023-03-14T13:12:55.175Z"
   },
   {
    "duration": 330,
    "start_time": "2023-03-14T13:13:27.636Z"
   },
   {
    "duration": 588,
    "start_time": "2023-03-14T13:15:00.970Z"
   },
   {
    "duration": 332,
    "start_time": "2023-03-14T13:18:17.651Z"
   },
   {
    "duration": 324,
    "start_time": "2023-03-14T13:20:15.311Z"
   },
   {
    "duration": 69,
    "start_time": "2023-03-14T13:21:57.101Z"
   },
   {
    "duration": 328,
    "start_time": "2023-03-14T13:22:05.519Z"
   },
   {
    "duration": 315,
    "start_time": "2023-03-14T13:22:23.025Z"
   },
   {
    "duration": 641,
    "start_time": "2023-03-14T13:23:40.447Z"
   },
   {
    "duration": 420,
    "start_time": "2023-03-14T13:24:41.342Z"
   },
   {
    "duration": 499,
    "start_time": "2023-03-14T13:24:59.130Z"
   },
   {
    "duration": 358,
    "start_time": "2023-03-14T13:26:08.916Z"
   },
   {
    "duration": 357,
    "start_time": "2023-03-14T13:26:41.507Z"
   },
   {
    "duration": 365,
    "start_time": "2023-03-14T13:26:58.356Z"
   },
   {
    "duration": 510,
    "start_time": "2023-03-14T13:37:57.670Z"
   },
   {
    "duration": 637,
    "start_time": "2023-03-14T13:39:04.114Z"
   },
   {
    "duration": 21,
    "start_time": "2023-03-14T13:39:15.656Z"
   },
   {
    "duration": 12,
    "start_time": "2023-03-14T13:39:35.306Z"
   },
   {
    "duration": 76,
    "start_time": "2023-03-14T13:40:33.520Z"
   },
   {
    "duration": 26,
    "start_time": "2023-03-14T13:40:50.621Z"
   },
   {
    "duration": 15,
    "start_time": "2023-03-14T13:41:36.726Z"
   },
   {
    "duration": 13,
    "start_time": "2023-03-14T13:41:48.810Z"
   },
   {
    "duration": 217,
    "start_time": "2023-03-14T13:52:07.305Z"
   },
   {
    "duration": 4,
    "start_time": "2023-03-14T13:52:53.962Z"
   },
   {
    "duration": 60,
    "start_time": "2023-03-14T13:52:54.118Z"
   },
   {
    "duration": 26,
    "start_time": "2023-03-14T13:52:54.309Z"
   },
   {
    "duration": 4,
    "start_time": "2023-03-14T13:52:54.451Z"
   },
   {
    "duration": 14,
    "start_time": "2023-03-14T13:52:54.597Z"
   },
   {
    "duration": 4,
    "start_time": "2023-03-14T13:52:54.772Z"
   },
   {
    "duration": 11,
    "start_time": "2023-03-14T13:52:54.916Z"
   },
   {
    "duration": 8,
    "start_time": "2023-03-14T13:52:55.073Z"
   },
   {
    "duration": 232,
    "start_time": "2023-03-14T13:52:55.273Z"
   },
   {
    "duration": 11,
    "start_time": "2023-03-14T13:52:55.507Z"
   },
   {
    "duration": 356,
    "start_time": "2023-03-14T13:52:55.606Z"
   },
   {
    "duration": 381,
    "start_time": "2023-03-14T13:52:55.965Z"
   },
   {
    "duration": 226,
    "start_time": "2023-03-14T13:52:56.349Z"
   },
   {
    "duration": 626,
    "start_time": "2023-03-14T13:54:02.764Z"
   },
   {
    "duration": 15,
    "start_time": "2023-03-14T13:54:40.375Z"
   },
   {
    "duration": 18,
    "start_time": "2023-03-14T13:55:25.677Z"
   },
   {
    "duration": 3,
    "start_time": "2023-03-14T13:55:40.411Z"
   },
   {
    "duration": 90,
    "start_time": "2023-03-14T13:55:40.571Z"
   },
   {
    "duration": 17,
    "start_time": "2023-03-14T13:55:40.705Z"
   },
   {
    "duration": 4,
    "start_time": "2023-03-14T13:55:40.871Z"
   },
   {
    "duration": 15,
    "start_time": "2023-03-14T13:55:41.017Z"
   },
   {
    "duration": 3,
    "start_time": "2023-03-14T13:55:41.206Z"
   },
   {
    "duration": 9,
    "start_time": "2023-03-14T13:55:41.382Z"
   },
   {
    "duration": 7,
    "start_time": "2023-03-14T13:55:41.508Z"
   },
   {
    "duration": 231,
    "start_time": "2023-03-14T13:55:41.707Z"
   },
   {
    "duration": 9,
    "start_time": "2023-03-14T13:55:41.941Z"
   },
   {
    "duration": 350,
    "start_time": "2023-03-14T13:55:42.013Z"
   },
   {
    "duration": 371,
    "start_time": "2023-03-14T13:55:42.366Z"
   },
   {
    "duration": 13,
    "start_time": "2023-03-14T13:55:42.739Z"
   },
   {
    "duration": 667,
    "start_time": "2023-03-14T13:55:56.301Z"
   },
   {
    "duration": 15,
    "start_time": "2023-03-14T14:00:08.473Z"
   },
   {
    "duration": 609,
    "start_time": "2023-03-14T14:00:59.503Z"
   },
   {
    "duration": 982,
    "start_time": "2023-03-14T14:01:37.712Z"
   },
   {
    "duration": 250,
    "start_time": "2023-03-14T14:03:13.053Z"
   },
   {
    "duration": 3,
    "start_time": "2023-03-14T14:04:09.513Z"
   },
   {
    "duration": 51,
    "start_time": "2023-03-14T14:04:09.649Z"
   },
   {
    "duration": 17,
    "start_time": "2023-03-14T14:04:09.809Z"
   },
   {
    "duration": 6,
    "start_time": "2023-03-14T14:04:09.949Z"
   },
   {
    "duration": 10,
    "start_time": "2023-03-14T14:04:10.112Z"
   },
   {
    "duration": 3,
    "start_time": "2023-03-14T14:04:10.349Z"
   },
   {
    "duration": 8,
    "start_time": "2023-03-14T14:04:10.464Z"
   },
   {
    "duration": 7,
    "start_time": "2023-03-14T14:04:10.603Z"
   },
   {
    "duration": 297,
    "start_time": "2023-03-14T14:04:10.769Z"
   },
   {
    "duration": 10,
    "start_time": "2023-03-14T14:04:11.074Z"
   },
   {
    "duration": 358,
    "start_time": "2023-03-14T14:04:11.106Z"
   },
   {
    "duration": 392,
    "start_time": "2023-03-14T14:04:11.466Z"
   },
   {
    "duration": 7723,
    "start_time": "2023-03-14T14:04:11.860Z"
   },
   {
    "duration": 951,
    "start_time": "2023-03-14T14:04:19.586Z"
   },
   {
    "duration": 606,
    "start_time": "2023-03-14T15:07:46.533Z"
   },
   {
    "duration": 234,
    "start_time": "2023-03-14T15:08:47.165Z"
   },
   {
    "duration": 232,
    "start_time": "2023-03-14T15:24:01.438Z"
   },
   {
    "duration": 258,
    "start_time": "2023-03-14T15:24:09.224Z"
   },
   {
    "duration": 216,
    "start_time": "2023-03-14T15:24:17.110Z"
   },
   {
    "duration": 241,
    "start_time": "2023-03-14T15:24:23.906Z"
   },
   {
    "duration": 228,
    "start_time": "2023-03-14T15:24:32.688Z"
   },
   {
    "duration": 254,
    "start_time": "2023-03-14T15:24:47.852Z"
   },
   {
    "duration": 250,
    "start_time": "2023-03-14T15:25:33.392Z"
   },
   {
    "duration": 302,
    "start_time": "2023-03-14T15:25:48.764Z"
   },
   {
    "duration": 239,
    "start_time": "2023-03-14T15:25:59.801Z"
   },
   {
    "duration": 237,
    "start_time": "2023-03-14T15:26:21.913Z"
   },
   {
    "duration": 21,
    "start_time": "2023-03-14T15:36:46.019Z"
   },
   {
    "duration": 14,
    "start_time": "2023-03-14T15:37:07.594Z"
   },
   {
    "duration": 21,
    "start_time": "2023-03-14T15:37:22.471Z"
   },
   {
    "duration": 18,
    "start_time": "2023-03-14T15:37:41.507Z"
   },
   {
    "duration": 28,
    "start_time": "2023-03-14T15:39:01.480Z"
   },
   {
    "duration": 30,
    "start_time": "2023-03-14T15:39:40.595Z"
   },
   {
    "duration": 22,
    "start_time": "2023-03-14T15:44:51.435Z"
   },
   {
    "duration": 1277,
    "start_time": "2023-03-14T15:45:11.893Z"
   },
   {
    "duration": 192,
    "start_time": "2023-03-14T15:45:50.928Z"
   },
   {
    "duration": 5,
    "start_time": "2023-03-14T15:54:12.230Z"
   },
   {
    "duration": 1692,
    "start_time": "2023-03-14T15:54:23.255Z"
   },
   {
    "duration": 1323,
    "start_time": "2023-03-14T15:55:27.964Z"
   },
   {
    "duration": 257,
    "start_time": "2023-03-14T15:55:47.897Z"
   },
   {
    "duration": 1321,
    "start_time": "2023-03-14T15:56:46.643Z"
   },
   {
    "duration": 519,
    "start_time": "2023-03-14T15:57:35.257Z"
   },
   {
    "duration": 204,
    "start_time": "2023-03-14T15:57:51.257Z"
   },
   {
    "duration": 220,
    "start_time": "2023-03-14T15:58:20.662Z"
   },
   {
    "duration": 200,
    "start_time": "2023-03-14T15:58:25.369Z"
   },
   {
    "duration": 200,
    "start_time": "2023-03-14T15:58:32.539Z"
   },
   {
    "duration": 5,
    "start_time": "2023-03-14T16:00:04.552Z"
   },
   {
    "duration": 6,
    "start_time": "2023-03-14T16:00:16.711Z"
   },
   {
    "duration": 203,
    "start_time": "2023-03-14T16:00:33.014Z"
   },
   {
    "duration": 9,
    "start_time": "2023-03-14T16:00:42.099Z"
   },
   {
    "duration": 204,
    "start_time": "2023-03-14T16:05:27.029Z"
   },
   {
    "duration": 223,
    "start_time": "2023-03-14T16:05:49.053Z"
   },
   {
    "duration": 220,
    "start_time": "2023-03-14T16:07:07.912Z"
   },
   {
    "duration": 220,
    "start_time": "2023-03-14T16:07:52.001Z"
   },
   {
    "duration": 221,
    "start_time": "2023-03-14T16:08:07.405Z"
   },
   {
    "duration": 439,
    "start_time": "2023-03-14T16:13:15.900Z"
   },
   {
    "duration": 27,
    "start_time": "2023-03-14T16:16:01.303Z"
   },
   {
    "duration": 197,
    "start_time": "2023-03-14T16:16:24.369Z"
   },
   {
    "duration": 394,
    "start_time": "2023-03-14T16:17:11.618Z"
   },
   {
    "duration": 14,
    "start_time": "2023-03-14T16:18:38.992Z"
   },
   {
    "duration": 387,
    "start_time": "2023-03-14T16:18:43.044Z"
   },
   {
    "duration": 24,
    "start_time": "2023-03-14T16:29:55.928Z"
   },
   {
    "duration": 23,
    "start_time": "2023-03-14T16:30:02.041Z"
   },
   {
    "duration": 19,
    "start_time": "2023-03-14T16:30:56.164Z"
   },
   {
    "duration": 78,
    "start_time": "2023-03-14T16:32:31.456Z"
   },
   {
    "duration": 19,
    "start_time": "2023-03-14T16:33:06.870Z"
   },
   {
    "duration": 190,
    "start_time": "2023-03-14T16:33:55.497Z"
   },
   {
    "duration": 201,
    "start_time": "2023-03-14T16:34:09.816Z"
   },
   {
    "duration": 196,
    "start_time": "2023-03-14T16:34:17.755Z"
   },
   {
    "duration": 3,
    "start_time": "2023-03-14T16:34:39.693Z"
   },
   {
    "duration": 51,
    "start_time": "2023-03-14T16:34:39.854Z"
   },
   {
    "duration": 16,
    "start_time": "2023-03-14T16:34:40.024Z"
   },
   {
    "duration": 4,
    "start_time": "2023-03-14T16:34:40.194Z"
   },
   {
    "duration": 9,
    "start_time": "2023-03-14T16:34:40.364Z"
   },
   {
    "duration": 4,
    "start_time": "2023-03-14T16:34:40.523Z"
   },
   {
    "duration": 6,
    "start_time": "2023-03-14T16:34:40.694Z"
   },
   {
    "duration": 7,
    "start_time": "2023-03-14T16:34:40.891Z"
   },
   {
    "duration": 192,
    "start_time": "2023-03-14T16:34:41.048Z"
   },
   {
    "duration": 8,
    "start_time": "2023-03-14T16:34:41.242Z"
   },
   {
    "duration": 338,
    "start_time": "2023-03-14T16:34:41.401Z"
   },
   {
    "duration": 342,
    "start_time": "2023-03-14T16:34:41.741Z"
   },
   {
    "duration": 256,
    "start_time": "2023-03-14T16:34:42.085Z"
   },
   {
    "duration": 212,
    "start_time": "2023-03-14T16:34:42.514Z"
   },
   {
    "duration": 9,
    "start_time": "2023-03-14T16:34:43.644Z"
   },
   {
    "duration": 5,
    "start_time": "2023-03-14T16:34:45.613Z"
   },
   {
    "duration": 15,
    "start_time": "2023-03-14T16:34:46.391Z"
   },
   {
    "duration": 401,
    "start_time": "2023-03-14T16:34:47.427Z"
   },
   {
    "duration": 197,
    "start_time": "2023-03-14T16:35:11.429Z"
   },
   {
    "duration": 407,
    "start_time": "2023-03-14T16:46:23.020Z"
   },
   {
    "duration": 53,
    "start_time": "2023-03-16T10:42:19.673Z"
   },
   {
    "duration": 1480,
    "start_time": "2023-03-16T10:42:32.817Z"
   },
   {
    "duration": 122,
    "start_time": "2023-03-16T10:42:34.300Z"
   },
   {
    "duration": 19,
    "start_time": "2023-03-16T10:42:34.424Z"
   },
   {
    "duration": 3,
    "start_time": "2023-03-16T10:42:34.445Z"
   },
   {
    "duration": 16,
    "start_time": "2023-03-16T10:42:34.449Z"
   },
   {
    "duration": 12,
    "start_time": "2023-03-16T10:42:34.467Z"
   },
   {
    "duration": 30,
    "start_time": "2023-03-16T10:42:34.481Z"
   },
   {
    "duration": 16,
    "start_time": "2023-03-16T10:42:34.513Z"
   },
   {
    "duration": 173,
    "start_time": "2023-03-16T10:42:34.530Z"
   },
   {
    "duration": 11,
    "start_time": "2023-03-16T10:42:34.706Z"
   },
   {
    "duration": 316,
    "start_time": "2023-03-16T10:42:34.719Z"
   },
   {
    "duration": 357,
    "start_time": "2023-03-16T10:42:35.037Z"
   },
   {
    "duration": 253,
    "start_time": "2023-03-16T10:42:35.396Z"
   },
   {
    "duration": 210,
    "start_time": "2023-03-16T10:42:35.652Z"
   },
   {
    "duration": 9,
    "start_time": "2023-03-16T10:42:35.873Z"
   },
   {
    "duration": 19,
    "start_time": "2023-03-16T10:42:35.883Z"
   },
   {
    "duration": 25,
    "start_time": "2023-03-16T10:42:35.904Z"
   },
   {
    "duration": 465,
    "start_time": "2023-03-16T10:42:35.931Z"
   },
   {
    "duration": 11,
    "start_time": "2023-03-16T10:42:36.398Z"
   },
   {
    "duration": 2816,
    "start_time": "2023-03-16T10:45:03.222Z"
   },
   {
    "duration": 206,
    "start_time": "2023-03-16T10:45:38.977Z"
   },
   {
    "duration": 18,
    "start_time": "2023-03-16T10:46:02.411Z"
   },
   {
    "duration": 12,
    "start_time": "2023-03-16T10:47:00.512Z"
   },
   {
    "duration": 7,
    "start_time": "2023-03-16T10:47:08.880Z"
   },
   {
    "duration": 21,
    "start_time": "2023-03-16T10:47:08.889Z"
   },
   {
    "duration": 105,
    "start_time": "2023-03-16T10:47:09.041Z"
   },
   {
    "duration": 431,
    "start_time": "2023-03-16T10:47:09.276Z"
   },
   {
    "duration": 7,
    "start_time": "2023-03-16T10:47:49.095Z"
   },
   {
    "duration": 5,
    "start_time": "2023-03-16T10:47:50.379Z"
   },
   {
    "duration": 447,
    "start_time": "2023-03-16T10:48:03.920Z"
   },
   {
    "duration": 200,
    "start_time": "2023-03-16T10:48:13.575Z"
   },
   {
    "duration": 8,
    "start_time": "2023-03-16T10:48:13.777Z"
   },
   {
    "duration": 8,
    "start_time": "2023-03-16T10:48:13.787Z"
   },
   {
    "duration": 14,
    "start_time": "2023-03-16T10:48:13.859Z"
   },
   {
    "duration": 406,
    "start_time": "2023-03-16T10:48:14.096Z"
   },
   {
    "duration": 11,
    "start_time": "2023-03-16T10:48:47.562Z"
   },
   {
    "duration": 220,
    "start_time": "2023-03-16T10:49:17.528Z"
   },
   {
    "duration": 224,
    "start_time": "2023-03-16T10:49:42.736Z"
   },
   {
    "duration": 199,
    "start_time": "2023-03-16T10:50:28.111Z"
   },
   {
    "duration": 215,
    "start_time": "2023-03-16T10:50:40.793Z"
   },
   {
    "duration": 192,
    "start_time": "2023-03-16T10:50:52.363Z"
   },
   {
    "duration": 16,
    "start_time": "2023-03-16T10:58:13.334Z"
   },
   {
    "duration": 9,
    "start_time": "2023-03-16T11:10:14.039Z"
   },
   {
    "duration": 15,
    "start_time": "2023-03-16T11:10:27.521Z"
   },
   {
    "duration": 12,
    "start_time": "2023-03-16T11:11:01.214Z"
   },
   {
    "duration": 16,
    "start_time": "2023-03-16T11:11:06.124Z"
   },
   {
    "duration": 15,
    "start_time": "2023-03-16T11:11:26.179Z"
   },
   {
    "duration": 21,
    "start_time": "2023-03-16T11:11:45.779Z"
   },
   {
    "duration": 16,
    "start_time": "2023-03-16T11:11:57.030Z"
   },
   {
    "duration": 17,
    "start_time": "2023-03-16T11:13:27.982Z"
   },
   {
    "duration": 15,
    "start_time": "2023-03-16T11:15:47.946Z"
   },
   {
    "duration": 20,
    "start_time": "2023-03-16T11:16:20.612Z"
   },
   {
    "duration": 15,
    "start_time": "2023-03-16T11:16:44.594Z"
   },
   {
    "duration": 16,
    "start_time": "2023-03-16T11:17:12.644Z"
   },
   {
    "duration": 17,
    "start_time": "2023-03-16T11:17:26.050Z"
   },
   {
    "duration": 17,
    "start_time": "2023-03-16T11:17:37.447Z"
   },
   {
    "duration": 16,
    "start_time": "2023-03-16T11:20:06.962Z"
   },
   {
    "duration": 28,
    "start_time": "2023-03-16T11:31:56.037Z"
   },
   {
    "duration": 31,
    "start_time": "2023-03-16T11:35:56.809Z"
   },
   {
    "duration": 138,
    "start_time": "2023-03-16T11:36:46.509Z"
   },
   {
    "duration": 213,
    "start_time": "2023-03-16T11:41:01.953Z"
   },
   {
    "duration": 174,
    "start_time": "2023-03-16T11:42:35.229Z"
   },
   {
    "duration": 20,
    "start_time": "2023-03-16T11:49:52.637Z"
   },
   {
    "duration": 26,
    "start_time": "2023-03-16T11:50:09.210Z"
   },
   {
    "duration": 20,
    "start_time": "2023-03-16T11:51:37.215Z"
   },
   {
    "duration": 27,
    "start_time": "2023-03-16T11:51:47.246Z"
   },
   {
    "duration": 184,
    "start_time": "2023-03-16T11:53:21.378Z"
   },
   {
    "duration": 203,
    "start_time": "2023-03-16T11:53:40.808Z"
   },
   {
    "duration": 26,
    "start_time": "2023-03-16T11:56:38.434Z"
   },
   {
    "duration": 163,
    "start_time": "2023-03-16T11:56:44.909Z"
   },
   {
    "duration": 1138,
    "start_time": "2023-03-16T11:57:15.724Z"
   },
   {
    "duration": 1146,
    "start_time": "2023-03-16T11:57:25.106Z"
   },
   {
    "duration": 1304,
    "start_time": "2023-03-16T11:58:19.425Z"
   },
   {
    "duration": 14,
    "start_time": "2023-03-16T11:59:02.366Z"
   },
   {
    "duration": 182,
    "start_time": "2023-03-16T11:59:49.895Z"
   },
   {
    "duration": 186,
    "start_time": "2023-03-16T12:01:28.818Z"
   },
   {
    "duration": 1401,
    "start_time": "2023-03-16T13:29:21.437Z"
   },
   {
    "duration": 109,
    "start_time": "2023-03-16T13:29:22.840Z"
   },
   {
    "duration": 14,
    "start_time": "2023-03-16T13:29:22.951Z"
   },
   {
    "duration": 3,
    "start_time": "2023-03-16T13:29:23.597Z"
   },
   {
    "duration": 8,
    "start_time": "2023-03-16T13:29:24.259Z"
   },
   {
    "duration": 6,
    "start_time": "2023-03-16T13:29:24.409Z"
   },
   {
    "duration": 8,
    "start_time": "2023-03-16T13:29:24.571Z"
   },
   {
    "duration": 7,
    "start_time": "2023-03-16T13:29:24.750Z"
   },
   {
    "duration": 156,
    "start_time": "2023-03-16T13:29:24.911Z"
   },
   {
    "duration": 15,
    "start_time": "2023-03-16T13:29:25.096Z"
   },
   {
    "duration": 302,
    "start_time": "2023-03-16T13:29:25.259Z"
   },
   {
    "duration": 315,
    "start_time": "2023-03-16T13:29:25.563Z"
   },
   {
    "duration": 250,
    "start_time": "2023-03-16T13:29:25.880Z"
   },
   {
    "duration": 195,
    "start_time": "2023-03-16T13:29:26.131Z"
   },
   {
    "duration": 8,
    "start_time": "2023-03-16T13:29:26.329Z"
   },
   {
    "duration": 29,
    "start_time": "2023-03-16T13:29:26.339Z"
   },
   {
    "duration": 41,
    "start_time": "2023-03-16T13:29:26.369Z"
   },
   {
    "duration": 426,
    "start_time": "2023-03-16T13:29:26.439Z"
   },
   {
    "duration": 190,
    "start_time": "2023-03-16T13:29:26.867Z"
   },
   {
    "duration": 131,
    "start_time": "2023-03-16T13:29:27.059Z"
   },
   {
    "duration": 128,
    "start_time": "2023-03-16T13:29:27.194Z"
   },
   {
    "duration": 215,
    "start_time": "2023-03-16T13:29:27.323Z"
   },
   {
    "duration": 178,
    "start_time": "2023-03-16T13:29:27.540Z"
   },
   {
    "duration": 192,
    "start_time": "2023-03-16T13:29:27.720Z"
   },
   {
    "duration": 172,
    "start_time": "2023-03-16T13:29:27.915Z"
   },
   {
    "duration": 13,
    "start_time": "2023-03-16T13:45:25.048Z"
   },
   {
    "duration": 18,
    "start_time": "2023-03-16T13:47:38.007Z"
   },
   {
    "duration": 5,
    "start_time": "2023-03-16T13:49:10.529Z"
   },
   {
    "duration": 1236,
    "start_time": "2023-03-16T13:49:15.699Z"
   },
   {
    "duration": 18,
    "start_time": "2023-03-16T13:49:49.087Z"
   },
   {
    "duration": 18,
    "start_time": "2023-03-16T13:50:09.991Z"
   },
   {
    "duration": 20,
    "start_time": "2023-03-16T13:50:24.633Z"
   },
   {
    "duration": 21,
    "start_time": "2023-03-16T13:51:38.545Z"
   },
   {
    "duration": 18,
    "start_time": "2023-03-16T13:52:33.614Z"
   },
   {
    "duration": 23,
    "start_time": "2023-03-16T13:54:10.874Z"
   },
   {
    "duration": 18,
    "start_time": "2023-03-16T13:57:13.255Z"
   },
   {
    "duration": 18,
    "start_time": "2023-03-16T13:58:46.786Z"
   },
   {
    "duration": 17,
    "start_time": "2023-03-16T13:59:10.552Z"
   },
   {
    "duration": 22,
    "start_time": "2023-03-16T13:59:34.098Z"
   },
   {
    "duration": 6,
    "start_time": "2023-03-16T13:59:54.387Z"
   },
   {
    "duration": 103,
    "start_time": "2023-03-16T14:00:46.637Z"
   },
   {
    "duration": 5,
    "start_time": "2023-03-16T14:01:08.682Z"
   },
   {
    "duration": 10,
    "start_time": "2023-03-16T14:01:14.031Z"
   },
   {
    "duration": 6,
    "start_time": "2023-03-16T14:02:13.381Z"
   },
   {
    "duration": 5,
    "start_time": "2023-03-16T14:02:21.345Z"
   },
   {
    "duration": 9,
    "start_time": "2023-03-16T14:02:26.135Z"
   },
   {
    "duration": 4,
    "start_time": "2023-03-16T14:12:43.795Z"
   },
   {
    "duration": 323,
    "start_time": "2023-03-16T14:12:49.321Z"
   },
   {
    "duration": 191,
    "start_time": "2023-03-16T14:14:04.248Z"
   },
   {
    "duration": 171,
    "start_time": "2023-03-16T14:14:44.120Z"
   },
   {
    "duration": 15,
    "start_time": "2023-03-16T14:37:31.683Z"
   },
   {
    "duration": 15,
    "start_time": "2023-03-16T14:37:59.068Z"
   },
   {
    "duration": 21,
    "start_time": "2023-03-16T14:39:03.362Z"
   },
   {
    "duration": 15,
    "start_time": "2023-03-16T14:40:31.387Z"
   },
   {
    "duration": 32,
    "start_time": "2023-03-16T14:41:55.944Z"
   },
   {
    "duration": 26,
    "start_time": "2023-03-16T14:42:17.159Z"
   },
   {
    "duration": 29,
    "start_time": "2023-03-16T14:42:29.292Z"
   },
   {
    "duration": 187,
    "start_time": "2023-03-16T14:43:00.277Z"
   },
   {
    "duration": 14,
    "start_time": "2023-03-16T14:56:34.257Z"
   },
   {
    "duration": 3,
    "start_time": "2023-03-16T14:57:23.338Z"
   },
   {
    "duration": 68,
    "start_time": "2023-03-16T14:57:23.481Z"
   },
   {
    "duration": 20,
    "start_time": "2023-03-16T14:57:23.629Z"
   },
   {
    "duration": 4,
    "start_time": "2023-03-16T14:57:23.795Z"
   },
   {
    "duration": 13,
    "start_time": "2023-03-16T14:57:23.980Z"
   },
   {
    "duration": 3,
    "start_time": "2023-03-16T14:57:24.124Z"
   },
   {
    "duration": 7,
    "start_time": "2023-03-16T14:57:24.291Z"
   },
   {
    "duration": 7,
    "start_time": "2023-03-16T14:57:24.440Z"
   },
   {
    "duration": 183,
    "start_time": "2023-03-16T14:57:24.619Z"
   },
   {
    "duration": 9,
    "start_time": "2023-03-16T14:57:24.804Z"
   },
   {
    "duration": 350,
    "start_time": "2023-03-16T14:57:24.952Z"
   },
   {
    "duration": 306,
    "start_time": "2023-03-16T14:57:25.304Z"
   },
   {
    "duration": 229,
    "start_time": "2023-03-16T14:57:25.612Z"
   },
   {
    "duration": 276,
    "start_time": "2023-03-16T14:57:25.842Z"
   },
   {
    "duration": 9,
    "start_time": "2023-03-16T14:57:26.120Z"
   },
   {
    "duration": 7,
    "start_time": "2023-03-16T14:57:26.624Z"
   },
   {
    "duration": 13,
    "start_time": "2023-03-16T14:57:26.812Z"
   },
   {
    "duration": 356,
    "start_time": "2023-03-16T14:57:27.036Z"
   },
   {
    "duration": 182,
    "start_time": "2023-03-16T14:57:27.830Z"
   },
   {
    "duration": 113,
    "start_time": "2023-03-16T14:57:28.855Z"
   },
   {
    "duration": 125,
    "start_time": "2023-03-16T14:57:29.097Z"
   },
   {
    "duration": 137,
    "start_time": "2023-03-16T14:57:29.224Z"
   },
   {
    "duration": 160,
    "start_time": "2023-03-16T14:57:29.408Z"
   },
   {
    "duration": 158,
    "start_time": "2023-03-16T14:57:30.105Z"
   },
   {
    "duration": 192,
    "start_time": "2023-03-16T14:57:30.276Z"
   },
   {
    "duration": 196,
    "start_time": "2023-03-16T14:57:30.470Z"
   },
   {
    "duration": 27,
    "start_time": "2023-03-16T14:57:30.668Z"
   },
   {
    "duration": 8,
    "start_time": "2023-03-16T14:58:58.288Z"
   },
   {
    "duration": 6,
    "start_time": "2023-03-16T15:05:26.846Z"
   },
   {
    "duration": 3,
    "start_time": "2023-03-16T15:05:29.082Z"
   },
   {
    "duration": 6,
    "start_time": "2023-03-16T15:05:29.243Z"
   },
   {
    "duration": 6,
    "start_time": "2023-03-16T15:05:29.401Z"
   },
   {
    "duration": 193,
    "start_time": "2023-03-16T15:05:29.578Z"
   },
   {
    "duration": 18,
    "start_time": "2023-03-16T15:05:29.772Z"
   },
   {
    "duration": 348,
    "start_time": "2023-03-16T15:05:29.896Z"
   },
   {
    "duration": 475,
    "start_time": "2023-03-16T15:05:30.246Z"
   },
   {
    "duration": 252,
    "start_time": "2023-03-16T15:05:30.722Z"
   },
   {
    "duration": 207,
    "start_time": "2023-03-16T15:05:30.976Z"
   },
   {
    "duration": 11,
    "start_time": "2023-03-16T15:05:31.190Z"
   },
   {
    "duration": 48,
    "start_time": "2023-03-16T15:05:31.203Z"
   },
   {
    "duration": 42,
    "start_time": "2023-03-16T15:05:31.253Z"
   },
   {
    "duration": 418,
    "start_time": "2023-03-16T15:05:31.298Z"
   },
   {
    "duration": 183,
    "start_time": "2023-03-16T15:05:31.717Z"
   },
   {
    "duration": 142,
    "start_time": "2023-03-16T15:05:31.903Z"
   },
   {
    "duration": 131,
    "start_time": "2023-03-16T15:05:32.046Z"
   },
   {
    "duration": 153,
    "start_time": "2023-03-16T15:05:32.179Z"
   },
   {
    "duration": 191,
    "start_time": "2023-03-16T15:05:32.334Z"
   },
   {
    "duration": 175,
    "start_time": "2023-03-16T15:05:32.526Z"
   },
   {
    "duration": 208,
    "start_time": "2023-03-16T15:05:32.703Z"
   },
   {
    "duration": 181,
    "start_time": "2023-03-16T15:05:33.048Z"
   },
   {
    "duration": 14,
    "start_time": "2023-03-16T15:05:33.231Z"
   },
   {
    "duration": 3,
    "start_time": "2023-03-16T15:06:02.664Z"
   },
   {
    "duration": 50,
    "start_time": "2023-03-16T15:06:02.829Z"
   },
   {
    "duration": 21,
    "start_time": "2023-03-16T15:06:02.999Z"
   },
   {
    "duration": 4,
    "start_time": "2023-03-16T15:06:03.154Z"
   },
   {
    "duration": 9,
    "start_time": "2023-03-16T15:06:03.342Z"
   },
   {
    "duration": 9,
    "start_time": "2023-03-16T15:06:03.496Z"
   },
   {
    "duration": 8,
    "start_time": "2023-03-16T15:06:03.686Z"
   },
   {
    "duration": 3,
    "start_time": "2023-03-16T15:06:03.850Z"
   },
   {
    "duration": 7,
    "start_time": "2023-03-16T15:06:04.037Z"
   },
   {
    "duration": 6,
    "start_time": "2023-03-16T15:06:04.209Z"
   },
   {
    "duration": 305,
    "start_time": "2023-03-16T15:06:04.380Z"
   },
   {
    "duration": 10,
    "start_time": "2023-03-16T15:06:04.690Z"
   },
   {
    "duration": 371,
    "start_time": "2023-03-16T15:06:04.728Z"
   },
   {
    "duration": 381,
    "start_time": "2023-03-16T15:06:05.101Z"
   },
   {
    "duration": 267,
    "start_time": "2023-03-16T15:06:05.484Z"
   },
   {
    "duration": 209,
    "start_time": "2023-03-16T15:06:05.754Z"
   },
   {
    "duration": 7,
    "start_time": "2023-03-16T15:06:05.965Z"
   },
   {
    "duration": 21,
    "start_time": "2023-03-16T15:06:05.973Z"
   },
   {
    "duration": 57,
    "start_time": "2023-03-16T15:06:05.996Z"
   },
   {
    "duration": 508,
    "start_time": "2023-03-16T15:06:06.284Z"
   },
   {
    "duration": 228,
    "start_time": "2023-03-16T15:06:06.796Z"
   },
   {
    "duration": 142,
    "start_time": "2023-03-16T15:06:07.026Z"
   },
   {
    "duration": 153,
    "start_time": "2023-03-16T15:06:07.169Z"
   },
   {
    "duration": 145,
    "start_time": "2023-03-16T15:06:07.324Z"
   },
   {
    "duration": 171,
    "start_time": "2023-03-16T15:06:08.523Z"
   },
   {
    "duration": 177,
    "start_time": "2023-03-16T15:06:09.783Z"
   },
   {
    "duration": 177,
    "start_time": "2023-03-16T15:06:10.782Z"
   },
   {
    "duration": 318,
    "start_time": "2023-03-16T15:06:11.814Z"
   },
   {
    "duration": 17,
    "start_time": "2023-03-16T15:06:12.679Z"
   },
   {
    "duration": 3,
    "start_time": "2023-03-16T15:07:08.857Z"
   },
   {
    "duration": 50,
    "start_time": "2023-03-16T15:07:09.038Z"
   },
   {
    "duration": 24,
    "start_time": "2023-03-16T15:07:09.198Z"
   },
   {
    "duration": 6,
    "start_time": "2023-03-16T15:07:09.385Z"
   },
   {
    "duration": 9,
    "start_time": "2023-03-16T15:07:09.546Z"
   },
   {
    "duration": 6,
    "start_time": "2023-03-16T15:07:09.715Z"
   },
   {
    "duration": 9,
    "start_time": "2023-03-16T15:07:09.893Z"
   },
   {
    "duration": 2,
    "start_time": "2023-03-16T15:07:10.065Z"
   },
   {
    "duration": 9,
    "start_time": "2023-03-16T15:07:10.258Z"
   },
   {
    "duration": 7,
    "start_time": "2023-03-16T15:07:10.424Z"
   },
   {
    "duration": 213,
    "start_time": "2023-03-16T15:07:10.595Z"
   },
   {
    "duration": 9,
    "start_time": "2023-03-16T15:07:11.032Z"
   },
   {
    "duration": 380,
    "start_time": "2023-03-16T15:07:11.043Z"
   },
   {
    "duration": 360,
    "start_time": "2023-03-16T15:07:11.426Z"
   },
   {
    "duration": 276,
    "start_time": "2023-03-16T15:07:11.789Z"
   },
   {
    "duration": 216,
    "start_time": "2023-03-16T15:07:12.067Z"
   },
   {
    "duration": 17,
    "start_time": "2023-03-16T15:07:12.285Z"
   },
   {
    "duration": 10,
    "start_time": "2023-03-16T15:07:12.304Z"
   },
   {
    "duration": 23,
    "start_time": "2023-03-16T15:07:12.316Z"
   },
   {
    "duration": 424,
    "start_time": "2023-03-16T15:07:12.341Z"
   },
   {
    "duration": 216,
    "start_time": "2023-03-16T15:07:12.767Z"
   },
   {
    "duration": 139,
    "start_time": "2023-03-16T15:07:12.985Z"
   },
   {
    "duration": 144,
    "start_time": "2023-03-16T15:07:13.126Z"
   },
   {
    "duration": 156,
    "start_time": "2023-03-16T15:07:13.271Z"
   },
   {
    "duration": 190,
    "start_time": "2023-03-16T15:07:13.429Z"
   },
   {
    "duration": 199,
    "start_time": "2023-03-16T15:07:13.621Z"
   },
   {
    "duration": 219,
    "start_time": "2023-03-16T15:07:13.822Z"
   },
   {
    "duration": 374,
    "start_time": "2023-03-16T15:07:14.044Z"
   },
   {
    "duration": 13,
    "start_time": "2023-03-16T15:07:14.420Z"
   },
   {
    "duration": 3,
    "start_time": "2023-03-16T15:07:49.780Z"
   },
   {
    "duration": 50,
    "start_time": "2023-03-16T15:07:49.942Z"
   },
   {
    "duration": 20,
    "start_time": "2023-03-16T15:07:50.121Z"
   },
   {
    "duration": 4,
    "start_time": "2023-03-16T15:07:50.323Z"
   },
   {
    "duration": 19,
    "start_time": "2023-03-16T15:07:50.586Z"
   },
   {
    "duration": 6,
    "start_time": "2023-03-16T15:07:50.625Z"
   },
   {
    "duration": 5,
    "start_time": "2023-03-16T15:07:50.820Z"
   },
   {
    "duration": 8,
    "start_time": "2023-03-16T15:07:50.992Z"
   },
   {
    "duration": 9,
    "start_time": "2023-03-16T15:07:51.142Z"
   },
   {
    "duration": 6,
    "start_time": "2023-03-16T15:07:51.320Z"
   },
   {
    "duration": 241,
    "start_time": "2023-03-16T15:07:51.494Z"
   },
   {
    "duration": 8,
    "start_time": "2023-03-16T15:07:51.738Z"
   },
   {
    "duration": 338,
    "start_time": "2023-03-16T15:07:51.827Z"
   },
   {
    "duration": 408,
    "start_time": "2023-03-16T15:07:52.167Z"
   },
   {
    "duration": 283,
    "start_time": "2023-03-16T15:07:52.578Z"
   },
   {
    "duration": 243,
    "start_time": "2023-03-16T15:07:52.864Z"
   },
   {
    "duration": 12,
    "start_time": "2023-03-16T15:07:53.110Z"
   },
   {
    "duration": 9,
    "start_time": "2023-03-16T15:07:53.125Z"
   },
   {
    "duration": 22,
    "start_time": "2023-03-16T15:07:53.136Z"
   },
   {
    "duration": 481,
    "start_time": "2023-03-16T15:07:53.160Z"
   },
   {
    "duration": 223,
    "start_time": "2023-03-16T15:07:53.643Z"
   },
   {
    "duration": 143,
    "start_time": "2023-03-16T15:07:53.869Z"
   },
   {
    "duration": 157,
    "start_time": "2023-03-16T15:07:54.015Z"
   },
   {
    "duration": 165,
    "start_time": "2023-03-16T15:07:54.175Z"
   },
   {
    "duration": 225,
    "start_time": "2023-03-16T15:07:54.342Z"
   },
   {
    "duration": 199,
    "start_time": "2023-03-16T15:07:54.569Z"
   },
   {
    "duration": 214,
    "start_time": "2023-03-16T15:07:54.770Z"
   },
   {
    "duration": 243,
    "start_time": "2023-03-16T15:07:54.985Z"
   },
   {
    "duration": 11,
    "start_time": "2023-03-16T15:07:55.230Z"
   },
   {
    "duration": 10,
    "start_time": "2023-03-16T15:10:13.020Z"
   },
   {
    "duration": 13,
    "start_time": "2023-03-16T15:14:37.319Z"
   },
   {
    "duration": 15,
    "start_time": "2023-03-16T15:14:53.018Z"
   },
   {
    "duration": 17,
    "start_time": "2023-03-16T15:15:12.315Z"
   },
   {
    "duration": 32,
    "start_time": "2023-03-16T15:24:22.784Z"
   },
   {
    "duration": 1062,
    "start_time": "2023-03-16T15:24:41.854Z"
   },
   {
    "duration": 956,
    "start_time": "2023-03-16T15:25:44.194Z"
   },
   {
    "duration": 14,
    "start_time": "2023-03-16T15:27:08.445Z"
   },
   {
    "duration": 991,
    "start_time": "2023-03-16T15:27:14.598Z"
   },
   {
    "duration": 1035,
    "start_time": "2023-03-16T15:29:09.388Z"
   },
   {
    "duration": 1046,
    "start_time": "2023-03-16T15:29:52.200Z"
   },
   {
    "duration": 9,
    "start_time": "2023-03-16T15:30:19.701Z"
   },
   {
    "duration": 176,
    "start_time": "2023-03-16T15:33:53.535Z"
   },
   {
    "duration": 170,
    "start_time": "2023-03-16T15:34:11.421Z"
   },
   {
    "duration": 185,
    "start_time": "2023-03-16T15:34:54.329Z"
   },
   {
    "duration": 179,
    "start_time": "2023-03-16T15:36:16.032Z"
   },
   {
    "duration": 6,
    "start_time": "2023-03-16T15:36:16.213Z"
   },
   {
    "duration": 199,
    "start_time": "2023-03-16T15:38:30.905Z"
   },
   {
    "duration": 187,
    "start_time": "2023-03-16T15:39:32.999Z"
   },
   {
    "duration": 205,
    "start_time": "2023-03-16T15:40:32.324Z"
   },
   {
    "duration": 197,
    "start_time": "2023-03-16T15:40:48.931Z"
   },
   {
    "duration": 209,
    "start_time": "2023-03-16T15:44:28.943Z"
   },
   {
    "duration": 151,
    "start_time": "2023-03-16T15:46:48.607Z"
   },
   {
    "duration": 172,
    "start_time": "2023-03-16T15:46:54.829Z"
   },
   {
    "duration": 50,
    "start_time": "2023-03-17T13:07:02.942Z"
   },
   {
    "duration": 1447,
    "start_time": "2023-03-17T13:07:12.516Z"
   },
   {
    "duration": 205,
    "start_time": "2023-03-17T13:07:13.965Z"
   },
   {
    "duration": 24,
    "start_time": "2023-03-17T13:07:14.172Z"
   },
   {
    "duration": 4,
    "start_time": "2023-03-17T13:07:14.199Z"
   },
   {
    "duration": 10,
    "start_time": "2023-03-17T13:07:14.206Z"
   },
   {
    "duration": 8,
    "start_time": "2023-03-17T13:07:14.218Z"
   },
   {
    "duration": 4,
    "start_time": "2023-03-17T13:07:14.228Z"
   },
   {
    "duration": 4,
    "start_time": "2023-03-17T13:07:14.234Z"
   },
   {
    "duration": 10,
    "start_time": "2023-03-17T13:07:14.240Z"
   },
   {
    "duration": 39,
    "start_time": "2023-03-17T13:07:14.254Z"
   },
   {
    "duration": 175,
    "start_time": "2023-03-17T13:07:14.295Z"
   },
   {
    "duration": 11,
    "start_time": "2023-03-17T13:07:14.510Z"
   },
   {
    "duration": 316,
    "start_time": "2023-03-17T13:07:15.949Z"
   },
   {
    "duration": 377,
    "start_time": "2023-03-17T13:07:16.267Z"
   },
   {
    "duration": 396,
    "start_time": "2023-03-17T13:07:17.004Z"
   },
   {
    "duration": 209,
    "start_time": "2023-03-17T13:07:17.403Z"
   },
   {
    "duration": 252,
    "start_time": "2023-03-17T13:07:17.614Z"
   },
   {
    "duration": 295,
    "start_time": "2023-03-17T13:07:17.868Z"
   },
   {
    "duration": 254,
    "start_time": "2023-03-17T13:07:18.166Z"
   },
   {
    "duration": 283,
    "start_time": "2023-03-17T13:07:18.423Z"
   },
   {
    "duration": 123,
    "start_time": "2023-03-17T13:07:19.079Z"
   },
   {
    "duration": 195,
    "start_time": "2023-03-17T13:07:19.868Z"
   },
   {
    "duration": 196,
    "start_time": "2023-03-17T13:07:20.066Z"
   },
   {
    "duration": 228,
    "start_time": "2023-03-17T13:07:20.264Z"
   },
   {
    "duration": 179,
    "start_time": "2023-03-17T13:07:20.712Z"
   },
   {
    "duration": 194,
    "start_time": "2023-03-17T13:07:20.894Z"
   },
   {
    "duration": 201,
    "start_time": "2023-03-17T13:07:21.090Z"
   },
   {
    "duration": 75,
    "start_time": "2023-03-17T13:07:21.294Z"
   },
   {
    "duration": 0,
    "start_time": "2023-03-17T13:07:21.371Z"
   },
   {
    "duration": 22,
    "start_time": "2023-03-17T13:12:42.929Z"
   },
   {
    "duration": 16,
    "start_time": "2023-03-17T13:12:47.996Z"
   },
   {
    "duration": 14,
    "start_time": "2023-03-17T13:13:02.827Z"
   },
   {
    "duration": 285,
    "start_time": "2023-03-17T13:32:14.512Z"
   },
   {
    "duration": 397,
    "start_time": "2023-03-17T13:34:18.393Z"
   },
   {
    "duration": 482,
    "start_time": "2023-03-17T13:47:35.578Z"
   },
   {
    "duration": 197,
    "start_time": "2023-03-17T14:07:37.670Z"
   },
   {
    "duration": 266,
    "start_time": "2023-03-17T14:10:15.947Z"
   },
   {
    "duration": 135,
    "start_time": "2023-03-17T14:17:00.533Z"
   },
   {
    "duration": 126,
    "start_time": "2023-03-17T14:20:23.765Z"
   },
   {
    "duration": 130,
    "start_time": "2023-03-17T14:20:34.819Z"
   },
   {
    "duration": 4,
    "start_time": "2023-03-17T15:35:43.120Z"
   },
   {
    "duration": 51,
    "start_time": "2023-03-17T15:35:44.206Z"
   },
   {
    "duration": 15,
    "start_time": "2023-03-17T15:35:45.031Z"
   },
   {
    "duration": 5,
    "start_time": "2023-03-17T15:35:48.303Z"
   },
   {
    "duration": 12,
    "start_time": "2023-03-17T15:35:49.354Z"
   },
   {
    "duration": 6,
    "start_time": "2023-03-17T15:35:51.006Z"
   },
   {
    "duration": 8,
    "start_time": "2023-03-17T15:35:55.139Z"
   },
   {
    "duration": 8,
    "start_time": "2023-03-17T15:35:57.415Z"
   },
   {
    "duration": 199,
    "start_time": "2023-03-17T15:35:59.357Z"
   },
   {
    "duration": 9,
    "start_time": "2023-03-17T15:36:01.474Z"
   },
   {
    "duration": 314,
    "start_time": "2023-03-17T15:36:03.094Z"
   },
   {
    "duration": 345,
    "start_time": "2023-03-17T15:36:06.038Z"
   },
   {
    "duration": 336,
    "start_time": "2023-03-17T15:36:08.998Z"
   },
   {
    "duration": 304,
    "start_time": "2023-03-17T15:36:12.160Z"
   },
   {
    "duration": 191,
    "start_time": "2023-03-17T15:36:14.701Z"
   },
   {
    "duration": 241,
    "start_time": "2023-03-17T15:36:16.827Z"
   },
   {
    "duration": 199,
    "start_time": "2023-03-17T15:36:19.005Z"
   },
   {
    "duration": 259,
    "start_time": "2023-03-17T15:36:19.316Z"
   },
   {
    "duration": 121,
    "start_time": "2023-03-17T15:36:20.346Z"
   },
   {
    "duration": 143,
    "start_time": "2023-03-17T15:36:20.688Z"
   },
   {
    "duration": 116,
    "start_time": "2023-03-17T15:36:21.054Z"
   },
   {
    "duration": 152,
    "start_time": "2023-03-17T15:36:21.886Z"
   },
   {
    "duration": 169,
    "start_time": "2023-03-17T15:36:22.041Z"
   },
   {
    "duration": 187,
    "start_time": "2023-03-17T15:36:22.212Z"
   },
   {
    "duration": 178,
    "start_time": "2023-03-17T15:36:22.428Z"
   },
   {
    "duration": 10,
    "start_time": "2023-03-17T15:36:22.949Z"
   },
   {
    "duration": 13,
    "start_time": "2023-03-17T15:36:23.310Z"
   },
   {
    "duration": 66,
    "start_time": "2023-03-18T14:39:29.139Z"
   },
   {
    "duration": 1591,
    "start_time": "2023-03-18T14:39:39.059Z"
   },
   {
    "duration": 162,
    "start_time": "2023-03-18T14:39:40.652Z"
   },
   {
    "duration": 18,
    "start_time": "2023-03-18T14:39:40.819Z"
   },
   {
    "duration": 3,
    "start_time": "2023-03-18T14:39:41.334Z"
   },
   {
    "duration": 11,
    "start_time": "2023-03-18T14:39:43.216Z"
   },
   {
    "duration": 7,
    "start_time": "2023-03-18T14:39:44.957Z"
   },
   {
    "duration": 7,
    "start_time": "2023-03-18T14:39:47.071Z"
   },
   {
    "duration": 39,
    "start_time": "2023-03-18T14:39:52.054Z"
   },
   {
    "duration": 22,
    "start_time": "2023-03-18T14:39:53.448Z"
   },
   {
    "duration": 8,
    "start_time": "2023-03-18T14:42:54.412Z"
   },
   {
    "duration": 104,
    "start_time": "2023-03-18T14:44:08.415Z"
   },
   {
    "duration": 107,
    "start_time": "2023-03-18T14:44:17.045Z"
   },
   {
    "duration": 7,
    "start_time": "2023-03-18T14:44:58.619Z"
   },
   {
    "duration": 6,
    "start_time": "2023-03-18T14:45:07.719Z"
   },
   {
    "duration": 5,
    "start_time": "2023-03-18T14:45:23.434Z"
   },
   {
    "duration": 7,
    "start_time": "2023-03-18T14:45:43.143Z"
   },
   {
    "duration": 5,
    "start_time": "2023-03-18T14:46:01.419Z"
   },
   {
    "duration": 6,
    "start_time": "2023-03-18T14:46:25.552Z"
   },
   {
    "duration": 6,
    "start_time": "2023-03-18T14:46:43.207Z"
   },
   {
    "duration": 4,
    "start_time": "2023-03-18T14:46:53.271Z"
   },
   {
    "duration": 6,
    "start_time": "2023-03-18T14:47:05.336Z"
   },
   {
    "duration": 101,
    "start_time": "2023-03-18T14:47:17.211Z"
   },
   {
    "duration": 6,
    "start_time": "2023-03-18T14:47:30.615Z"
   },
   {
    "duration": 6,
    "start_time": "2023-03-18T14:49:42.359Z"
   },
   {
    "duration": 6,
    "start_time": "2023-03-18T14:50:24.615Z"
   },
   {
    "duration": 17,
    "start_time": "2023-03-18T14:50:32.230Z"
   },
   {
    "duration": 5,
    "start_time": "2023-03-18T14:53:04.941Z"
   },
   {
    "duration": 10,
    "start_time": "2023-03-18T14:58:43.418Z"
   },
   {
    "duration": 6,
    "start_time": "2023-03-18T14:59:04.240Z"
   },
   {
    "duration": 6,
    "start_time": "2023-03-18T14:59:23.717Z"
   },
   {
    "duration": 6,
    "start_time": "2023-03-18T14:59:52.844Z"
   },
   {
    "duration": 212,
    "start_time": "2023-03-18T14:59:52.866Z"
   },
   {
    "duration": 62,
    "start_time": "2023-03-18T14:59:53.080Z"
   },
   {
    "duration": 3,
    "start_time": "2023-03-18T15:00:01.361Z"
   },
   {
    "duration": 16,
    "start_time": "2023-03-18T15:00:02.671Z"
   },
   {
    "duration": 6,
    "start_time": "2023-03-18T15:00:03.923Z"
   },
   {
    "duration": 8,
    "start_time": "2023-03-18T15:00:06.325Z"
   },
   {
    "duration": 6,
    "start_time": "2023-03-18T15:00:28.616Z"
   },
   {
    "duration": 6,
    "start_time": "2023-03-18T15:00:34.666Z"
   },
   {
    "duration": 98,
    "start_time": "2023-03-18T15:00:41.745Z"
   },
   {
    "duration": 12,
    "start_time": "2023-03-18T15:00:58.419Z"
   },
   {
    "duration": 59,
    "start_time": "2023-03-18T15:01:45.969Z"
   },
   {
    "duration": 4,
    "start_time": "2023-03-18T15:01:59.624Z"
   },
   {
    "duration": 7,
    "start_time": "2023-03-18T15:02:35.651Z"
   },
   {
    "duration": 8,
    "start_time": "2023-03-18T15:02:45.009Z"
   },
   {
    "duration": 6,
    "start_time": "2023-03-18T15:13:15.233Z"
   },
   {
    "duration": 7,
    "start_time": "2023-03-18T15:14:21.057Z"
   },
   {
    "duration": 8,
    "start_time": "2023-03-18T15:15:09.348Z"
   },
   {
    "duration": 8,
    "start_time": "2023-03-18T15:15:30.613Z"
   },
   {
    "duration": 11,
    "start_time": "2023-03-18T15:16:06.216Z"
   },
   {
    "duration": 4,
    "start_time": "2023-03-18T15:30:23.022Z"
   },
   {
    "duration": 59,
    "start_time": "2023-03-18T15:30:23.116Z"
   },
   {
    "duration": 16,
    "start_time": "2023-03-18T15:30:23.321Z"
   },
   {
    "duration": 6,
    "start_time": "2023-03-18T15:30:24.125Z"
   },
   {
    "duration": 11,
    "start_time": "2023-03-18T15:30:24.429Z"
   },
   {
    "duration": 7,
    "start_time": "2023-03-18T15:30:24.824Z"
   },
   {
    "duration": 7,
    "start_time": "2023-03-18T15:30:25.119Z"
   },
   {
    "duration": 5,
    "start_time": "2023-03-18T15:30:25.319Z"
   },
   {
    "duration": 11,
    "start_time": "2023-03-18T15:30:25.707Z"
   },
   {
    "duration": 11,
    "start_time": "2023-03-18T15:30:25.845Z"
   },
   {
    "duration": 9,
    "start_time": "2023-03-18T15:30:26.924Z"
   },
   {
    "duration": 237,
    "start_time": "2023-03-18T15:30:27.420Z"
   },
   {
    "duration": 9,
    "start_time": "2023-03-18T15:30:27.923Z"
   },
   {
    "duration": 331,
    "start_time": "2023-03-18T15:30:28.116Z"
   },
   {
    "duration": 357,
    "start_time": "2023-03-18T15:30:28.816Z"
   },
   {
    "duration": 412,
    "start_time": "2023-03-18T15:30:29.328Z"
   },
   {
    "duration": 223,
    "start_time": "2023-03-18T15:30:29.820Z"
   },
   {
    "duration": 221,
    "start_time": "2023-03-18T15:30:30.225Z"
   },
   {
    "duration": 227,
    "start_time": "2023-03-18T15:30:30.537Z"
   },
   {
    "duration": 256,
    "start_time": "2023-03-18T15:30:31.109Z"
   },
   {
    "duration": 424,
    "start_time": "2023-03-18T15:30:31.607Z"
   },
   {
    "duration": 163,
    "start_time": "2023-03-18T15:30:32.296Z"
   },
   {
    "duration": 136,
    "start_time": "2023-03-18T15:30:32.711Z"
   },
   {
    "duration": 138,
    "start_time": "2023-03-18T15:30:33.009Z"
   },
   {
    "duration": 215,
    "start_time": "2023-03-18T15:30:33.625Z"
   },
   {
    "duration": 219,
    "start_time": "2023-03-18T15:30:34.011Z"
   },
   {
    "duration": 207,
    "start_time": "2023-03-18T15:30:34.311Z"
   },
   {
    "duration": 269,
    "start_time": "2023-03-18T15:30:35.101Z"
   },
   {
    "duration": 15,
    "start_time": "2023-03-18T15:30:35.608Z"
   },
   {
    "duration": 19,
    "start_time": "2023-03-18T15:30:36.012Z"
   },
   {
    "duration": 390,
    "start_time": "2023-03-18T15:52:09.427Z"
   },
   {
    "duration": 89,
    "start_time": "2023-03-18T15:53:05.632Z"
   },
   {
    "duration": 46,
    "start_time": "2023-03-18T15:53:49.312Z"
   },
   {
    "duration": 30,
    "start_time": "2023-03-18T15:54:13.418Z"
   },
   {
    "duration": 49,
    "start_time": "2023-03-18T15:54:46.347Z"
   },
   {
    "duration": 920,
    "start_time": "2023-03-18T15:55:19.208Z"
   },
   {
    "duration": 1461,
    "start_time": "2023-03-19T17:43:43.304Z"
   },
   {
    "duration": 186,
    "start_time": "2023-03-19T17:43:44.768Z"
   },
   {
    "duration": 18,
    "start_time": "2023-03-19T17:43:44.956Z"
   },
   {
    "duration": 4,
    "start_time": "2023-03-19T17:43:44.976Z"
   },
   {
    "duration": 29,
    "start_time": "2023-03-19T17:43:44.982Z"
   },
   {
    "duration": 25,
    "start_time": "2023-03-19T17:43:45.013Z"
   },
   {
    "duration": 36,
    "start_time": "2023-03-19T17:43:45.040Z"
   },
   {
    "duration": 28,
    "start_time": "2023-03-19T17:43:45.079Z"
   },
   {
    "duration": 23,
    "start_time": "2023-03-19T17:43:45.109Z"
   },
   {
    "duration": 29,
    "start_time": "2023-03-19T17:43:45.136Z"
   },
   {
    "duration": 17,
    "start_time": "2023-03-19T17:43:45.168Z"
   },
   {
    "duration": 172,
    "start_time": "2023-03-19T17:43:45.188Z"
   },
   {
    "duration": 10,
    "start_time": "2023-03-19T17:43:45.362Z"
   },
   {
    "duration": 303,
    "start_time": "2023-03-19T17:43:45.374Z"
   },
   {
    "duration": 331,
    "start_time": "2023-03-19T17:43:45.678Z"
   },
   {
    "duration": 339,
    "start_time": "2023-03-19T17:43:46.011Z"
   },
   {
    "duration": 197,
    "start_time": "2023-03-19T17:43:46.352Z"
   },
   {
    "duration": 209,
    "start_time": "2023-03-19T17:43:46.551Z"
   },
   {
    "duration": 228,
    "start_time": "2023-03-19T17:43:46.762Z"
   },
   {
    "duration": 252,
    "start_time": "2023-03-19T17:43:46.992Z"
   },
   {
    "duration": 331,
    "start_time": "2023-03-19T17:43:47.246Z"
   },
   {
    "duration": 121,
    "start_time": "2023-03-19T17:43:47.579Z"
   },
   {
    "duration": 130,
    "start_time": "2023-03-19T17:43:47.702Z"
   },
   {
    "duration": 124,
    "start_time": "2023-03-19T17:43:47.833Z"
   },
   {
    "duration": 172,
    "start_time": "2023-03-19T17:43:47.959Z"
   },
   {
    "duration": 174,
    "start_time": "2023-03-19T17:43:48.132Z"
   },
   {
    "duration": 184,
    "start_time": "2023-03-19T17:43:48.307Z"
   },
   {
    "duration": 200,
    "start_time": "2023-03-19T17:43:48.494Z"
   },
   {
    "duration": 12,
    "start_time": "2023-03-19T17:44:28.152Z"
   },
   {
    "duration": 12,
    "start_time": "2023-03-19T17:44:44.607Z"
   }
  ],
  "kernelspec": {
   "display_name": "Python 3 (ipykernel)",
   "language": "python",
   "name": "python3"
  },
  "language_info": {
   "codemirror_mode": {
    "name": "ipython",
    "version": 3
   },
   "file_extension": ".py",
   "mimetype": "text/x-python",
   "name": "python",
   "nbconvert_exporter": "python",
   "pygments_lexer": "ipython3",
   "version": "3.9.13"
  },
  "toc": {
   "base_numbering": 1,
   "nav_menu": {},
   "number_sections": true,
   "sideBar": true,
   "skip_h1_title": true,
   "title_cell": "Table of Contents",
   "title_sidebar": "Contents",
   "toc_cell": false,
   "toc_position": {},
   "toc_section_display": true,
   "toc_window_display": false
  }
 },
 "nbformat": 4,
 "nbformat_minor": 2
}
